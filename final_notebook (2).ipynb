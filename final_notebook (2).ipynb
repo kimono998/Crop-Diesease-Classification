{
 "cells": [
  {
   "cell_type": "code",
   "execution_count": 1,
   "id": "5673f8ec-def6-42d4-8d6f-091b6439e919",
   "metadata": {},
   "outputs": [],
   "source": [
    "import os\n",
    "import json\n",
    "import pandas as pd\n",
    "import numpy as np\n",
    "import torch\n",
    "from torchvision import datasets, transforms\n",
    "from torch.utils.data import DataLoader, SubsetRandomSampler\n",
    "import timm\n",
    "from utils import to_grayscale, resize_img, clean_ds, split_dataset\n",
    "from model import StackedCNN2, StackedCNN, BasicCNN, SimpleModel\n",
    "from train import training, test\n",
    "from torch.nn import functional as F\n"
   ]
  },
  {
   "cell_type": "code",
   "execution_count": 2,
   "id": "8e996763-c771-4ac0-b5ae-e6cb309e52cc",
   "metadata": {},
   "outputs": [],
   "source": [
    "IMG_PATH = 'data/Data/train_images'\n",
    "LABEL_PATH = 'data/Data/label_num_to_disease_map.json'\n",
    "IMAGE_LABEL_PATH = 'data/Data/train.csv'\n",
    "DOWNSIZED_PATH = 'data/Data/downsized'\n",
    "DOWNSIZED_GRAYSCALE_PATH = 'data/Data/downsized_grayscale'\n",
    "GRAYSCALE_PATH = 'data/Data/grayscale'\n",
    "TRAIN_CSV_PATH = 'data/Data/reindexed_train.csv'\n",
    "img_list = os.listdir(IMG_PATH)\n",
    "\n",
    "target_size = (256, 192)\n",
    "#resize_img(IMG_PATH, img_list, DOWNSIZED_PATH,target_size)\n",
    "#to_grayscale(IMG_PATH, img_list, GRAYSCALE_PATH)\n",
    "#clean_ds(IMAGE_LABEL_PATH, IMG_PATH)\n"
   ]
  },
  {
   "cell_type": "code",
   "execution_count": 3,
   "id": "383721b6-280a-4357-a049-62cef75866ef",
   "metadata": {},
   "outputs": [],
   "source": [
    "train_dataloader, val_dataloader, test_dataloader = split_dataset(DOWNSIZED_PATH,TRAIN_CSV_PATH, bs=64)"
   ]
  },
  {
   "cell_type": "code",
   "execution_count": 4,
   "id": "c8201306-46bf-47b5-9a00-77738407ddaf",
   "metadata": {},
   "outputs": [
    {
     "name": "stdout",
     "output_type": "stream",
     "text": [
      "Train class 0 percentage: 5.138450102211485\n",
      "Train class 1 percentage: 10.211856532243077\n",
      "Train class 2 percentage: 11.103884036424457\n",
      "Train class 3 percentage: 61.46627020999814\n",
      "Train class 4 percentage: 12.07953911912284\n"
     ]
    }
   ],
   "source": [
    "from collections import defaultdict\n",
    "class_counts_train = defaultdict(int)\n",
    "for batch in train_dataloader:\n",
    "    for label in batch[1]:\n",
    "        class_counts_train[label.item()] += 1\n",
    " class_counts_val = defaultdict(int)\n",
    "for batch in val_dataloader:\n",
    "    for label in batch[1]:\n",
    "         class_counts_val[label.item()] += 1\n",
    " class_counts_test = defaultdict(int)\n",
    "for batch in test_dataloader:\n",
    "    for label in batch[1]:\n",
    "         class_counts_test[label.item()] += 1\n",
    "for i in range(5):\n",
    "    print(f'Train class {i} count: {class_counts_train[i]}')\n",
    "    print(f'Val class {i} count: {class_counts_val[i]}')\n",
    "    print(f'Test class {i} count: {class_counts_test[i]}')\n",
    "    print('---')\n",
    "\n",
    "item_totals_train = 0\n",
    "item_totals_test = 0\n",
    "item_totals_val = 0\n",
    "\n",
    "for i in range(5):\n",
    "    item_totals_train += class_counts_train[i]\n",
    "    item_totals_test += class_counts_test[i]\n",
    "    # item_totals_val += class_counts_val[i]\n",
    "\n",
    "for i in range(5):\n",
    "    print(f'Train class {i} percentage: {(class_counts_train[i] / item_totals_train) * 100}')\n",
    "    print(f'Val class {i} percentage: {(class_counts_val[i] / item_totals_val) * 100}')\n",
    "    print(f'Test class {i} percentage: {(class_counts_test[i] / item_totals_test) * 100}')"
   ]
  },
  {
   "cell_type": "code",
   "execution_count": 5,
   "id": "0179d627-8475-48d6-a3fe-8550d6ed9bb7",
   "metadata": {},
   "outputs": [
    {
     "name": "stdout",
     "output_type": "stream",
     "text": [
      "tensor([19.5588,  9.8417,  9.0510,  1.6351,  8.3200], device='cuda:0')\n"
     ]
    }
   ],
   "source": [
    "#Adding weights to mitigate class imbalance.\n",
    "#weights used to skew the loss function in favor of the underrepresented class.\n",
    "device = torch.device(\"cuda:0\" if torch.cuda.is_available() else \"cpu\")\n",
    "\n",
    "num_items = len(train_dataloader)*train_dataloader.batch_size\n",
    "weights = torch.tensor([num_items/class_counts_train[i] for i in range(5)]).to(device)\n",
    "\n",
    "print(weights)"
   ]
  },
  {
   "cell_type": "markdown",
   "id": "32362385-6ff0-49f1-8378-20723dfcc63a",
   "metadata": {},
   "source": [
    "# Training Baseline Models\n"
   ]
  },
  {
   "cell_type": "code",
   "execution_count": 6,
   "id": "6d71180a-62ca-4a35-b075-7e79ee5a8462",
   "metadata": {},
   "outputs": [],
   "source": [
    "# model = SimpleModel(3*256*192, 512, 5)\n",
    "# training(model = model, train_dataloader= train_dataloader, val_dataloader=val_dataloader, num_epochs=20, model_name='SimpleModel', loss_weights=weights, lr=1e-5, wd = 1e-5, optimize=0)\n",
    "# _ = test(model, test_dataloader, model_name='SimpleModel')\n",
    "# torch.cuda.empty_cache()  # PyTorch\n"
   ]
  },
  {
   "cell_type": "code",
   "execution_count": 7,
   "id": "7b0aa2a3-8433-43d8-bf6d-0f7256fe9b0a",
   "metadata": {},
   "outputs": [
    {
     "name": "stderr",
     "output_type": "stream",
     "text": [
      "Training procedure:   5%|▌         | 1/20 [00:50<16:00, 50.55s/it]"
     ]
    },
    {
     "name": "stdout",
     "output_type": "stream",
     "text": [
      "Epoch 1/20:\n",
      "Training Loss: 2.2643, Training Accuracy: 0.2460, train_f1: 0.1869\n",
      "Validation Loss: 1.4622, Validation Accuracy: 0.4473, val_f1: 0.2023\n"
     ]
    },
    {
     "name": "stderr",
     "output_type": "stream",
     "text": [
      "Training procedure:  10%|█         | 2/20 [01:38<14:47, 49.30s/it]"
     ]
    },
    {
     "name": "stdout",
     "output_type": "stream",
     "text": [
      "Epoch 2/20:\n",
      "Training Loss: 1.4725, Training Accuracy: 0.2625, train_f1: 0.2012\n",
      "Validation Loss: 1.5742, Validation Accuracy: 0.1396, val_f1: 0.1411\n"
     ]
    },
    {
     "name": "stderr",
     "output_type": "stream",
     "text": [
      "Training procedure:  15%|█▌        | 3/20 [02:26<13:41, 48.34s/it]"
     ]
    },
    {
     "name": "stdout",
     "output_type": "stream",
     "text": [
      "Epoch 3/20:\n",
      "Training Loss: 1.4119, Training Accuracy: 0.2567, train_f1: 0.2155\n",
      "Validation Loss: 1.6528, Validation Accuracy: 0.2252, val_f1: 0.1821\n"
     ]
    },
    {
     "name": "stderr",
     "output_type": "stream",
     "text": [
      "Training procedure:  20%|██        | 4/20 [03:13<12:48, 48.01s/it]"
     ]
    },
    {
     "name": "stdout",
     "output_type": "stream",
     "text": [
      "Epoch 4/20:\n",
      "Training Loss: 1.3664, Training Accuracy: 0.2976, train_f1: 0.2479\n",
      "Validation Loss: 1.3653, Validation Accuracy: 0.4362, val_f1: 0.2704\n"
     ]
    },
    {
     "name": "stderr",
     "output_type": "stream",
     "text": [
      "Training procedure:  25%|██▌       | 5/20 [04:01<11:59, 47.97s/it]"
     ]
    },
    {
     "name": "stdout",
     "output_type": "stream",
     "text": [
      "Epoch 5/20:\n",
      "Training Loss: 1.3133, Training Accuracy: 0.3073, train_f1: 0.2654\n",
      "Validation Loss: 1.3504, Validation Accuracy: 0.3158, val_f1: 0.2330\n"
     ]
    },
    {
     "name": "stderr",
     "output_type": "stream",
     "text": [
      "Training procedure:  30%|███       | 6/20 [04:50<11:16, 48.32s/it]"
     ]
    },
    {
     "name": "stdout",
     "output_type": "stream",
     "text": [
      "Epoch 6/20:\n",
      "Training Loss: 1.2684, Training Accuracy: 0.3487, train_f1: 0.3040\n",
      "Validation Loss: 1.4389, Validation Accuracy: 0.3211, val_f1: 0.2536\n"
     ]
    },
    {
     "name": "stderr",
     "output_type": "stream",
     "text": [
      "Training procedure:  35%|███▌      | 7/20 [05:41<10:38, 49.09s/it]"
     ]
    },
    {
     "name": "stdout",
     "output_type": "stream",
     "text": [
      "Epoch 7/20:\n",
      "Training Loss: 1.2259, Training Accuracy: 0.3807, train_f1: 0.3251\n",
      "Validation Loss: 1.2968, Validation Accuracy: 0.2851, val_f1: 0.2538\n"
     ]
    },
    {
     "name": "stderr",
     "output_type": "stream",
     "text": [
      "Training procedure:  40%|████      | 8/20 [06:30<09:49, 49.10s/it]"
     ]
    },
    {
     "name": "stdout",
     "output_type": "stream",
     "text": [
      "Epoch 8/20:\n",
      "Training Loss: 1.1850, Training Accuracy: 0.3993, train_f1: 0.3544\n",
      "Validation Loss: 1.5385, Validation Accuracy: 0.2441, val_f1: 0.2424\n"
     ]
    },
    {
     "name": "stderr",
     "output_type": "stream",
     "text": [
      "Training procedure:  45%|████▌     | 9/20 [07:18<08:56, 48.78s/it]"
     ]
    },
    {
     "name": "stdout",
     "output_type": "stream",
     "text": [
      "Epoch 9/20:\n",
      "Training Loss: 1.1426, Training Accuracy: 0.4222, train_f1: 0.3887\n",
      "Validation Loss: 1.2908, Validation Accuracy: 0.4493, val_f1: 0.3102\n"
     ]
    },
    {
     "name": "stderr",
     "output_type": "stream",
     "text": [
      "Training procedure:  50%|█████     | 10/20 [08:06<08:04, 48.45s/it]"
     ]
    },
    {
     "name": "stdout",
     "output_type": "stream",
     "text": [
      "Epoch 10/20:\n",
      "Training Loss: 1.0963, Training Accuracy: 0.4551, train_f1: 0.4176\n",
      "Validation Loss: 1.2552, Validation Accuracy: 0.4300, val_f1: 0.3113\n"
     ]
    },
    {
     "name": "stderr",
     "output_type": "stream",
     "text": [
      "Training procedure:  55%|█████▌    | 11/20 [08:54<07:16, 48.53s/it]"
     ]
    },
    {
     "name": "stdout",
     "output_type": "stream",
     "text": [
      "Epoch 11/20:\n",
      "Training Loss: 1.0641, Training Accuracy: 0.4807, train_f1: 0.4455\n",
      "Validation Loss: 1.3463, Validation Accuracy: 0.3241, val_f1: 0.2989\n"
     ]
    },
    {
     "name": "stderr",
     "output_type": "stream",
     "text": [
      "Training procedure:  60%|██████    | 12/20 [09:42<06:26, 48.37s/it]"
     ]
    },
    {
     "name": "stdout",
     "output_type": "stream",
     "text": [
      "Epoch 12/20:\n",
      "Training Loss: 1.0288, Training Accuracy: 0.4894, train_f1: 0.4619\n",
      "Validation Loss: 1.2671, Validation Accuracy: 0.4824, val_f1: 0.3322\n"
     ]
    },
    {
     "name": "stderr",
     "output_type": "stream",
     "text": [
      "Training procedure:  65%|██████▌   | 13/20 [10:30<05:38, 48.29s/it]"
     ]
    },
    {
     "name": "stdout",
     "output_type": "stream",
     "text": [
      "Epoch 13/20:\n",
      "Training Loss: 0.9868, Training Accuracy: 0.5304, train_f1: 0.5038\n",
      "Validation Loss: 1.2620, Validation Accuracy: 0.4376, val_f1: 0.3378\n"
     ]
    },
    {
     "name": "stderr",
     "output_type": "stream",
     "text": [
      "Training procedure:  70%|███████   | 14/20 [11:19<04:49, 48.31s/it]"
     ]
    },
    {
     "name": "stdout",
     "output_type": "stream",
     "text": [
      "Epoch 14/20:\n",
      "Training Loss: 0.9561, Training Accuracy: 0.5584, train_f1: 0.5254\n",
      "Validation Loss: 1.2624, Validation Accuracy: 0.4638, val_f1: 0.3380\n"
     ]
    },
    {
     "name": "stderr",
     "output_type": "stream",
     "text": [
      "Training procedure:  75%|███████▌  | 15/20 [12:06<04:00, 48.10s/it]"
     ]
    },
    {
     "name": "stdout",
     "output_type": "stream",
     "text": [
      "Epoch 15/20:\n",
      "Training Loss: 0.9333, Training Accuracy: 0.5753, train_f1: 0.5383\n",
      "Validation Loss: 1.1981, Validation Accuracy: 0.5092, val_f1: 0.3474\n"
     ]
    },
    {
     "name": "stderr",
     "output_type": "stream",
     "text": [
      "Training procedure:  80%|████████  | 16/20 [12:55<03:12, 48.23s/it]"
     ]
    },
    {
     "name": "stdout",
     "output_type": "stream",
     "text": [
      "Epoch 16/20:\n",
      "Training Loss: 0.8893, Training Accuracy: 0.5952, train_f1: 0.5582\n",
      "Validation Loss: 1.2471, Validation Accuracy: 0.4139, val_f1: 0.3224\n"
     ]
    },
    {
     "name": "stderr",
     "output_type": "stream",
     "text": [
      "Training procedure:  85%|████████▌ | 17/20 [13:44<02:25, 48.42s/it]"
     ]
    },
    {
     "name": "stdout",
     "output_type": "stream",
     "text": [
      "Epoch 17/20:\n",
      "Training Loss: 0.8535, Training Accuracy: 0.6081, train_f1: 0.5791\n",
      "Validation Loss: 1.3029, Validation Accuracy: 0.3487, val_f1: 0.3041\n"
     ]
    },
    {
     "name": "stderr",
     "output_type": "stream",
     "text": [
      "Training procedure:  90%|█████████ | 18/20 [14:35<01:38, 49.13s/it]"
     ]
    },
    {
     "name": "stdout",
     "output_type": "stream",
     "text": [
      "Epoch 18/20:\n",
      "Training Loss: 0.8180, Training Accuracy: 0.6307, train_f1: 0.6016\n",
      "Validation Loss: 1.2259, Validation Accuracy: 0.4395, val_f1: 0.3318\n"
     ]
    },
    {
     "name": "stderr",
     "output_type": "stream",
     "text": [
      "Training procedure:  95%|█████████▌| 19/20 [15:25<00:49, 49.43s/it]"
     ]
    },
    {
     "name": "stdout",
     "output_type": "stream",
     "text": [
      "Epoch 19/20:\n",
      "Training Loss: 0.8012, Training Accuracy: 0.6320, train_f1: 0.5951\n",
      "Validation Loss: 1.2034, Validation Accuracy: 0.4939, val_f1: 0.3451\n"
     ]
    },
    {
     "name": "stderr",
     "output_type": "stream",
     "text": [
      "Training procedure: 100%|██████████| 20/20 [16:14<00:00, 48.72s/it]"
     ]
    },
    {
     "name": "stdout",
     "output_type": "stream",
     "text": [
      "Epoch 20/20:\n",
      "Training Loss: 0.7659, Training Accuracy: 0.6669, train_f1: 0.6248\n",
      "Validation Loss: 1.2825, Validation Accuracy: 0.4186, val_f1: 0.3234\n"
     ]
    },
    {
     "name": "stderr",
     "output_type": "stream",
     "text": [
      "\n"
     ]
    },
    {
     "name": "stdout",
     "output_type": "stream",
     "text": [
      "Test Accuracy: 0.4273\n",
      "Test F1: 0.3384\n",
      "Test Precision: 0.35824849223998484\n",
      "Test Recall: 0.37256228283014037\n"
     ]
    }
   ],
   "source": [
    "model = BasicCNN(input_dim=3, num_filter= 64, k_size=3, pool_size=2, dense_size=512,num_classes=5, stride=1, img_x=256, img_y=192)\n",
    "training(lr=1e-5, model = model, train_dataloader= train_dataloader, val_dataloader=val_dataloader, num_epochs=20, model_name=f'BasicCNN', loss_weights=weights, wd = 1e-5, optimize=0)\n",
    "_ = test(model, test_dataloader, model_name=f'BasicCNN')\n",
    "torch.cuda.empty_cache()  # PyTorch\n",
    "\n"
   ]
  },
  {
   "cell_type": "code",
   "execution_count": 12,
   "id": "df34539f-9fe1-41af-8f68-acedf76b4966",
   "metadata": {},
   "outputs": [
    {
     "name": "stderr",
     "output_type": "stream",
     "text": [
      "Training procedure:   0%|          | 0/20 [00:53<?, ?it/s]\n"
     ]
    },
    {
     "ename": "KeyboardInterrupt",
     "evalue": "",
     "output_type": "error",
     "traceback": [
      "\u001b[0;31m---------------------------------------------------------------------------\u001b[0m",
      "\u001b[0;31mKeyboardInterrupt\u001b[0m                         Traceback (most recent call last)",
      "Cell \u001b[0;32mIn[12], line 2\u001b[0m\n\u001b[1;32m      1\u001b[0m model \u001b[38;5;241m=\u001b[39m StackedCNN2(input_dim\u001b[38;5;241m=\u001b[39m\u001b[38;5;241m3\u001b[39m, num_filter\u001b[38;5;241m=\u001b[39m \u001b[38;5;241m64\u001b[39m, k_size\u001b[38;5;241m=\u001b[39m\u001b[38;5;241m3\u001b[39m, pool_size\u001b[38;5;241m=\u001b[39m\u001b[38;5;241m2\u001b[39m, dense_size\u001b[38;5;241m=\u001b[39m\u001b[38;5;241m512\u001b[39m,num_classes\u001b[38;5;241m=\u001b[39m\u001b[38;5;241m5\u001b[39m, stride\u001b[38;5;241m=\u001b[39m\u001b[38;5;241m1\u001b[39m, img_x\u001b[38;5;241m=\u001b[39m\u001b[38;5;241m256\u001b[39m, img_y\u001b[38;5;241m=\u001b[39m\u001b[38;5;241m192\u001b[39m)\n\u001b[0;32m----> 2\u001b[0m \u001b[43mtraining\u001b[49m\u001b[43m(\u001b[49m\u001b[43mlr\u001b[49m\u001b[38;5;241;43m=\u001b[39;49m\u001b[38;5;241;43m1e-5\u001b[39;49m\u001b[43m,\u001b[49m\u001b[43m \u001b[49m\u001b[43mmodel\u001b[49m\u001b[43m \u001b[49m\u001b[38;5;241;43m=\u001b[39;49m\u001b[43m \u001b[49m\u001b[43mmodel\u001b[49m\u001b[43m,\u001b[49m\u001b[43m \u001b[49m\u001b[43mtrain_dataloader\u001b[49m\u001b[38;5;241;43m=\u001b[39;49m\u001b[43m \u001b[49m\u001b[43mtrain_dataloader\u001b[49m\u001b[43m,\u001b[49m\u001b[43m \u001b[49m\u001b[43mval_dataloader\u001b[49m\u001b[38;5;241;43m=\u001b[39;49m\u001b[43mval_dataloader\u001b[49m\u001b[43m,\u001b[49m\u001b[43m \u001b[49m\u001b[43mnum_epochs\u001b[49m\u001b[38;5;241;43m=\u001b[39;49m\u001b[38;5;241;43m20\u001b[39;49m\u001b[43m,\u001b[49m\u001b[43m \u001b[49m\u001b[43mmodel_name\u001b[49m\u001b[38;5;241;43m=\u001b[39;49m\u001b[38;5;124;43mf\u001b[39;49m\u001b[38;5;124;43m'\u001b[39;49m\u001b[38;5;124;43mStackedCNN2\u001b[39;49m\u001b[38;5;124;43m'\u001b[39;49m\u001b[43m,\u001b[49m\u001b[43m \u001b[49m\u001b[43mloss_weights\u001b[49m\u001b[38;5;241;43m=\u001b[39;49m\u001b[43mweights\u001b[49m\u001b[43m,\u001b[49m\u001b[43m \u001b[49m\u001b[43mwd\u001b[49m\u001b[43m \u001b[49m\u001b[38;5;241;43m=\u001b[39;49m\u001b[43m \u001b[49m\u001b[38;5;241;43m1e-5\u001b[39;49m\u001b[43m,\u001b[49m\u001b[43m \u001b[49m\u001b[43moptimize\u001b[49m\u001b[38;5;241;43m=\u001b[39;49m\u001b[38;5;241;43m0\u001b[39;49m\u001b[43m)\u001b[49m\n\u001b[1;32m      3\u001b[0m _ \u001b[38;5;241m=\u001b[39m test(model, test_dataloader, model_name\u001b[38;5;241m=\u001b[39m\u001b[38;5;124mf\u001b[39m\u001b[38;5;124m'\u001b[39m\u001b[38;5;124mStackedCNN2\u001b[39m\u001b[38;5;124m'\u001b[39m)\n\u001b[1;32m      4\u001b[0m torch\u001b[38;5;241m.\u001b[39mcuda\u001b[38;5;241m.\u001b[39mempty_cache()\n",
      "File \u001b[0;32m/workspace/project/train.py:76\u001b[0m, in \u001b[0;36mtraining\u001b[0;34m(num_epochs, model, train_dataloader, val_dataloader, lr, model_name, loss_weights, optimize, wd)\u001b[0m\n\u001b[1;32m     74\u001b[0m outputs \u001b[38;5;241m=\u001b[39m model(inputs)\n\u001b[1;32m     75\u001b[0m loss \u001b[38;5;241m=\u001b[39m F\u001b[38;5;241m.\u001b[39mcross_entropy(outputs, labels)\n\u001b[0;32m---> 76\u001b[0m val_loss \u001b[38;5;241m+\u001b[39m\u001b[38;5;241m=\u001b[39m \u001b[43mloss\u001b[49m\u001b[38;5;241;43m.\u001b[39;49m\u001b[43mitem\u001b[49m\u001b[43m(\u001b[49m\u001b[43m)\u001b[49m\n\u001b[1;32m     77\u001b[0m _, predicted \u001b[38;5;241m=\u001b[39m torch\u001b[38;5;241m.\u001b[39mmax(outputs, \u001b[38;5;241m1\u001b[39m)\n\u001b[1;32m     78\u001b[0m val_preds\u001b[38;5;241m.\u001b[39mextend(predicted\u001b[38;5;241m.\u001b[39mcpu()\u001b[38;5;241m.\u001b[39mnumpy())\n",
      "\u001b[0;31mKeyboardInterrupt\u001b[0m: "
     ]
    }
   ],
   "source": [
    "model = StackedCNN2(input_dim=3, num_filter= 64, k_size=3, pool_size=2, dense_size=512,num_classes=5, stride=1, img_x=256, img_y=192)\n",
    "training(lr=1e-5, model = model, train_dataloader= train_dataloader, val_dataloader=val_dataloader, num_epochs=20, model_name=f'StackedCNN2', loss_weights=weights, wd = 1e-5, optimize=0)\n",
    "_ = test(model, test_dataloader, model_name=f'StackedCNN2')\n",
    "torch.cuda.empty_cache()  # PyTorch\n"
   ]
  },
  {
   "cell_type": "markdown",
   "id": "d5b8df68-9526-437e-ba3a-371485eb9cbf",
   "metadata": {},
   "source": [
    "# SoTA Architectures - No Pretrain"
   ]
  },
  {
   "cell_type": "code",
   "execution_count": 18,
   "id": "091eeabc-8682-46c8-8ceb-09a0f53df0dc",
   "metadata": {},
   "outputs": [
    {
     "name": "stderr",
     "output_type": "stream",
     "text": [
      "Training procedure:   5%|▌         | 1/20 [00:43<13:50, 43.72s/it]"
     ]
    },
    {
     "name": "stdout",
     "output_type": "stream",
     "text": [
      "Epoch 1/20:\n",
      "Training Loss: 1.5488, Training Accuracy: 0.2612, train_f1: 0.2166\n",
      "Validation Loss: 1.4585, Validation Accuracy: 0.4114, val_f1: 0.3021\n"
     ]
    },
    {
     "name": "stderr",
     "output_type": "stream",
     "text": [
      "Training procedure:  10%|█         | 2/20 [01:27<13:05, 43.65s/it]"
     ]
    },
    {
     "name": "stdout",
     "output_type": "stream",
     "text": [
      "Epoch 2/20:\n",
      "Training Loss: 1.4701, Training Accuracy: 0.4310, train_f1: 0.3140\n",
      "Validation Loss: 1.3746, Validation Accuracy: 0.4724, val_f1: 0.3380\n"
     ]
    },
    {
     "name": "stderr",
     "output_type": "stream",
     "text": [
      "Training procedure:  15%|█▌        | 3/20 [02:12<12:34, 44.36s/it]"
     ]
    },
    {
     "name": "stdout",
     "output_type": "stream",
     "text": [
      "Epoch 3/20:\n",
      "Training Loss: 1.4348, Training Accuracy: 0.4699, train_f1: 0.3399\n",
      "Validation Loss: 1.3883, Validation Accuracy: 0.4629, val_f1: 0.3392\n"
     ]
    },
    {
     "name": "stderr",
     "output_type": "stream",
     "text": [
      "Training procedure:  20%|██        | 4/20 [02:55<11:41, 43.86s/it]"
     ]
    },
    {
     "name": "stdout",
     "output_type": "stream",
     "text": [
      "Epoch 4/20:\n",
      "Training Loss: 1.4092, Training Accuracy: 0.4839, train_f1: 0.3571\n",
      "Validation Loss: 1.3352, Validation Accuracy: 0.4989, val_f1: 0.3595\n"
     ]
    },
    {
     "name": "stderr",
     "output_type": "stream",
     "text": [
      "Training procedure:  25%|██▌       | 5/20 [03:38<10:52, 43.49s/it]"
     ]
    },
    {
     "name": "stdout",
     "output_type": "stream",
     "text": [
      "Epoch 5/20:\n",
      "Training Loss: 1.3863, Training Accuracy: 0.5070, train_f1: 0.3753\n",
      "Validation Loss: 1.3233, Validation Accuracy: 0.4872, val_f1: 0.3584\n"
     ]
    },
    {
     "name": "stderr",
     "output_type": "stream",
     "text": [
      "Training procedure:  30%|███       | 6/20 [04:22<10:09, 43.52s/it]"
     ]
    },
    {
     "name": "stdout",
     "output_type": "stream",
     "text": [
      "Epoch 6/20:\n",
      "Training Loss: 1.3717, Training Accuracy: 0.5113, train_f1: 0.3788\n",
      "Validation Loss: 1.2725, Validation Accuracy: 0.5181, val_f1: 0.3615\n"
     ]
    },
    {
     "name": "stderr",
     "output_type": "stream",
     "text": [
      "Training procedure:  35%|███▌      | 7/20 [05:05<09:26, 43.58s/it]"
     ]
    },
    {
     "name": "stdout",
     "output_type": "stream",
     "text": [
      "Epoch 7/20:\n",
      "Training Loss: 1.3543, Training Accuracy: 0.5054, train_f1: 0.3836\n",
      "Validation Loss: 1.2770, Validation Accuracy: 0.5078, val_f1: 0.3741\n"
     ]
    },
    {
     "name": "stderr",
     "output_type": "stream",
     "text": [
      "Training procedure:  40%|████      | 8/20 [05:49<08:42, 43.52s/it]"
     ]
    },
    {
     "name": "stdout",
     "output_type": "stream",
     "text": [
      "Epoch 8/20:\n",
      "Training Loss: 1.3433, Training Accuracy: 0.5186, train_f1: 0.3922\n",
      "Validation Loss: 1.3153, Validation Accuracy: 0.5017, val_f1: 0.3734\n"
     ]
    },
    {
     "name": "stderr",
     "output_type": "stream",
     "text": [
      "Training procedure:  45%|████▌     | 9/20 [06:33<08:00, 43.67s/it]"
     ]
    },
    {
     "name": "stdout",
     "output_type": "stream",
     "text": [
      "Epoch 9/20:\n",
      "Training Loss: 1.3261, Training Accuracy: 0.5284, train_f1: 0.4061\n",
      "Validation Loss: 1.2590, Validation Accuracy: 0.5220, val_f1: 0.3748\n"
     ]
    },
    {
     "name": "stderr",
     "output_type": "stream",
     "text": [
      "Training procedure:  50%|█████     | 10/20 [07:15<07:13, 43.31s/it]"
     ]
    },
    {
     "name": "stdout",
     "output_type": "stream",
     "text": [
      "Epoch 10/20:\n",
      "Training Loss: 1.3121, Training Accuracy: 0.5403, train_f1: 0.4082\n",
      "Validation Loss: 1.2712, Validation Accuracy: 0.5075, val_f1: 0.3824\n"
     ]
    },
    {
     "name": "stderr",
     "output_type": "stream",
     "text": [
      "Training procedure:  55%|█████▌    | 11/20 [07:58<06:29, 43.27s/it]"
     ]
    },
    {
     "name": "stdout",
     "output_type": "stream",
     "text": [
      "Epoch 11/20:\n",
      "Training Loss: 1.2950, Training Accuracy: 0.5350, train_f1: 0.4204\n",
      "Validation Loss: 1.2242, Validation Accuracy: 0.5585, val_f1: 0.4052\n"
     ]
    },
    {
     "name": "stderr",
     "output_type": "stream",
     "text": [
      "Training procedure:  60%|██████    | 12/20 [08:40<05:43, 42.92s/it]"
     ]
    },
    {
     "name": "stdout",
     "output_type": "stream",
     "text": [
      "Epoch 12/20:\n",
      "Training Loss: 1.2787, Training Accuracy: 0.5499, train_f1: 0.4251\n",
      "Validation Loss: 1.1638, Validation Accuracy: 0.5630, val_f1: 0.4024\n"
     ]
    },
    {
     "name": "stderr",
     "output_type": "stream",
     "text": [
      "Training procedure:  65%|██████▌   | 13/20 [09:24<05:02, 43.15s/it]"
     ]
    },
    {
     "name": "stdout",
     "output_type": "stream",
     "text": [
      "Epoch 13/20:\n",
      "Training Loss: 1.2653, Training Accuracy: 0.5463, train_f1: 0.4306\n",
      "Validation Loss: 1.1878, Validation Accuracy: 0.5507, val_f1: 0.4001\n"
     ]
    },
    {
     "name": "stderr",
     "output_type": "stream",
     "text": [
      "Training procedure:  70%|███████   | 14/20 [10:08<04:19, 43.32s/it]"
     ]
    },
    {
     "name": "stdout",
     "output_type": "stream",
     "text": [
      "Epoch 14/20:\n",
      "Training Loss: 1.2472, Training Accuracy: 0.5612, train_f1: 0.4428\n",
      "Validation Loss: 1.1906, Validation Accuracy: 0.5474, val_f1: 0.4022\n"
     ]
    },
    {
     "name": "stderr",
     "output_type": "stream",
     "text": [
      "Training procedure:  75%|███████▌  | 15/20 [10:52<03:37, 43.44s/it]"
     ]
    },
    {
     "name": "stdout",
     "output_type": "stream",
     "text": [
      "Epoch 15/20:\n",
      "Training Loss: 1.2346, Training Accuracy: 0.5495, train_f1: 0.4421\n",
      "Validation Loss: 1.2076, Validation Accuracy: 0.5407, val_f1: 0.4050\n"
     ]
    },
    {
     "name": "stderr",
     "output_type": "stream",
     "text": [
      "Training procedure:  80%|████████  | 16/20 [11:34<02:52, 43.12s/it]"
     ]
    },
    {
     "name": "stdout",
     "output_type": "stream",
     "text": [
      "Epoch 16/20:\n",
      "Training Loss: 1.2193, Training Accuracy: 0.5616, train_f1: 0.4533\n",
      "Validation Loss: 1.1876, Validation Accuracy: 0.5151, val_f1: 0.4036\n"
     ]
    },
    {
     "name": "stderr",
     "output_type": "stream",
     "text": [
      "Training procedure:  85%|████████▌ | 17/20 [12:18<02:10, 43.37s/it]"
     ]
    },
    {
     "name": "stdout",
     "output_type": "stream",
     "text": [
      "Epoch 17/20:\n",
      "Training Loss: 1.1935, Training Accuracy: 0.5735, train_f1: 0.4666\n",
      "Validation Loss: 1.1449, Validation Accuracy: 0.5488, val_f1: 0.4193\n"
     ]
    },
    {
     "name": "stderr",
     "output_type": "stream",
     "text": [
      "Training procedure:  90%|█████████ | 18/20 [13:00<01:26, 43.13s/it]"
     ]
    },
    {
     "name": "stdout",
     "output_type": "stream",
     "text": [
      "Epoch 18/20:\n",
      "Training Loss: 1.1739, Training Accuracy: 0.5720, train_f1: 0.4691\n",
      "Validation Loss: 1.2103, Validation Accuracy: 0.5167, val_f1: 0.4091\n"
     ]
    },
    {
     "name": "stderr",
     "output_type": "stream",
     "text": [
      "Training procedure:  95%|█████████▌| 19/20 [13:44<00:43, 43.27s/it]"
     ]
    },
    {
     "name": "stdout",
     "output_type": "stream",
     "text": [
      "Epoch 19/20:\n",
      "Training Loss: 1.1585, Training Accuracy: 0.5768, train_f1: 0.4758\n",
      "Validation Loss: 1.1424, Validation Accuracy: 0.5569, val_f1: 0.4222\n"
     ]
    },
    {
     "name": "stderr",
     "output_type": "stream",
     "text": [
      "Training procedure: 100%|██████████| 20/20 [14:27<00:00, 43.40s/it]"
     ]
    },
    {
     "name": "stdout",
     "output_type": "stream",
     "text": [
      "Epoch 20/20:\n",
      "Training Loss: 1.1304, Training Accuracy: 0.5897, train_f1: 0.4903\n",
      "Validation Loss: 1.1424, Validation Accuracy: 0.5206, val_f1: 0.4102\n"
     ]
    },
    {
     "name": "stderr",
     "output_type": "stream",
     "text": [
      "\n"
     ]
    },
    {
     "name": "stdout",
     "output_type": "stream",
     "text": [
      "Test Accuracy: 0.5187\n",
      "Test F1: 0.4109\n",
      "Test Precision: 0.41943492486735956\n",
      "Test Recall: 0.4439987698045976\n"
     ]
    }
   ],
   "source": [
    "model = timm.create_model('resnet50', num_classes = 5, pretrained=False)\n",
    "training(lr=1e-5, model = model, train_dataloader= train_dataloader, val_dataloader=val_dataloader, num_epochs=20, model_name=f'resnet50_np', loss_weights=weights, wd = 1e-5, optimize=0)\n",
    "_ = test(model, test_dataloader, model_name=f'resnet50_np')\n",
    "torch.cuda.empty_cache()  # PyTorch\n"
   ]
  },
  {
   "cell_type": "code",
   "execution_count": 19,
   "id": "760b4cb3-8974-441b-be9d-bf01b397bab1",
   "metadata": {},
   "outputs": [
    {
     "name": "stderr",
     "output_type": "stream",
     "text": [
      "Training procedure:   5%|▌         | 1/20 [00:43<13:46, 43.50s/it]"
     ]
    },
    {
     "name": "stdout",
     "output_type": "stream",
     "text": [
      "Epoch 1/20:\n",
      "Training Loss: 3.5550, Training Accuracy: 0.0923, train_f1: 0.0918\n",
      "Validation Loss: 3.8343, Validation Accuracy: 0.0878, val_f1: 0.0950\n"
     ]
    },
    {
     "name": "stderr",
     "output_type": "stream",
     "text": [
      "Training procedure:  10%|█         | 2/20 [01:26<12:57, 43.18s/it]"
     ]
    },
    {
     "name": "stdout",
     "output_type": "stream",
     "text": [
      "Epoch 2/20:\n",
      "Training Loss: 2.7848, Training Accuracy: 0.1409, train_f1: 0.1410\n",
      "Validation Loss: 3.0551, Validation Accuracy: 0.1171, val_f1: 0.1241\n"
     ]
    },
    {
     "name": "stderr",
     "output_type": "stream",
     "text": [
      "Training procedure:  15%|█▌        | 3/20 [02:09<12:13, 43.14s/it]"
     ]
    },
    {
     "name": "stdout",
     "output_type": "stream",
     "text": [
      "Epoch 3/20:\n",
      "Training Loss: 2.3057, Training Accuracy: 0.1882, train_f1: 0.1813\n",
      "Validation Loss: 2.2970, Validation Accuracy: 0.1853, val_f1: 0.1716\n"
     ]
    },
    {
     "name": "stderr",
     "output_type": "stream",
     "text": [
      "Training procedure:  20%|██        | 4/20 [02:52<11:28, 43.06s/it]"
     ]
    },
    {
     "name": "stdout",
     "output_type": "stream",
     "text": [
      "Epoch 4/20:\n",
      "Training Loss: 2.0392, Training Accuracy: 0.2500, train_f1: 0.2242\n",
      "Validation Loss: 1.8933, Validation Accuracy: 0.2533, val_f1: 0.2006\n"
     ]
    },
    {
     "name": "stderr",
     "output_type": "stream",
     "text": [
      "Training procedure:  25%|██▌       | 5/20 [03:36<10:49, 43.28s/it]"
     ]
    },
    {
     "name": "stdout",
     "output_type": "stream",
     "text": [
      "Epoch 5/20:\n",
      "Training Loss: 1.8165, Training Accuracy: 0.3022, train_f1: 0.2655\n",
      "Validation Loss: 1.7855, Validation Accuracy: 0.2860, val_f1: 0.2198\n"
     ]
    },
    {
     "name": "stderr",
     "output_type": "stream",
     "text": [
      "Training procedure:  30%|███       | 6/20 [04:18<10:03, 43.08s/it]"
     ]
    },
    {
     "name": "stdout",
     "output_type": "stream",
     "text": [
      "Epoch 6/20:\n",
      "Training Loss: 1.7424, Training Accuracy: 0.3352, train_f1: 0.2924\n",
      "Validation Loss: 1.7627, Validation Accuracy: 0.2996, val_f1: 0.2261\n"
     ]
    },
    {
     "name": "stderr",
     "output_type": "stream",
     "text": [
      "Training procedure:  35%|███▌      | 7/20 [05:02<09:22, 43.26s/it]"
     ]
    },
    {
     "name": "stdout",
     "output_type": "stream",
     "text": [
      "Epoch 7/20:\n",
      "Training Loss: 1.5817, Training Accuracy: 0.3728, train_f1: 0.3281\n",
      "Validation Loss: 1.7447, Validation Accuracy: 0.3200, val_f1: 0.2363\n"
     ]
    },
    {
     "name": "stderr",
     "output_type": "stream",
     "text": [
      "Training procedure:  40%|████      | 8/20 [05:46<08:41, 43.43s/it]"
     ]
    },
    {
     "name": "stdout",
     "output_type": "stream",
     "text": [
      "Epoch 8/20:\n",
      "Training Loss: 1.5013, Training Accuracy: 0.3959, train_f1: 0.3512\n",
      "Validation Loss: 1.7598, Validation Accuracy: 0.3297, val_f1: 0.2381\n"
     ]
    },
    {
     "name": "stderr",
     "output_type": "stream",
     "text": [
      "Training procedure:  45%|████▌     | 9/20 [06:30<08:02, 43.83s/it]"
     ]
    },
    {
     "name": "stdout",
     "output_type": "stream",
     "text": [
      "Epoch 9/20:\n",
      "Training Loss: 1.4051, Training Accuracy: 0.4145, train_f1: 0.3696\n",
      "Validation Loss: 1.6967, Validation Accuracy: 0.3520, val_f1: 0.2451\n"
     ]
    },
    {
     "name": "stderr",
     "output_type": "stream",
     "text": [
      "Training procedure:  50%|█████     | 10/20 [07:16<07:24, 44.43s/it]"
     ]
    },
    {
     "name": "stdout",
     "output_type": "stream",
     "text": [
      "Epoch 10/20:\n",
      "Training Loss: 1.3221, Training Accuracy: 0.4283, train_f1: 0.3889\n",
      "Validation Loss: 1.7596, Validation Accuracy: 0.3489, val_f1: 0.2522\n"
     ]
    },
    {
     "name": "stderr",
     "output_type": "stream",
     "text": [
      "Training procedure:  55%|█████▌    | 11/20 [08:01<06:41, 44.58s/it]"
     ]
    },
    {
     "name": "stdout",
     "output_type": "stream",
     "text": [
      "Epoch 11/20:\n",
      "Training Loss: 1.1873, Training Accuracy: 0.4642, train_f1: 0.4322\n",
      "Validation Loss: 1.7729, Validation Accuracy: 0.3609, val_f1: 0.2498\n"
     ]
    },
    {
     "name": "stderr",
     "output_type": "stream",
     "text": [
      "Training procedure:  60%|██████    | 12/20 [08:50<06:07, 45.88s/it]"
     ]
    },
    {
     "name": "stdout",
     "output_type": "stream",
     "text": [
      "Epoch 12/20:\n",
      "Training Loss: 1.1216, Training Accuracy: 0.4866, train_f1: 0.4561\n",
      "Validation Loss: 1.7428, Validation Accuracy: 0.3595, val_f1: 0.2506\n"
     ]
    },
    {
     "name": "stderr",
     "output_type": "stream",
     "text": [
      "Training procedure:  65%|██████▌   | 13/20 [09:34<05:16, 45.17s/it]"
     ]
    },
    {
     "name": "stdout",
     "output_type": "stream",
     "text": [
      "Epoch 13/20:\n",
      "Training Loss: 1.0195, Training Accuracy: 0.5233, train_f1: 0.4945\n",
      "Validation Loss: 1.7314, Validation Accuracy: 0.3506, val_f1: 0.2504\n"
     ]
    },
    {
     "name": "stderr",
     "output_type": "stream",
     "text": [
      "Training procedure:  70%|███████   | 14/20 [10:17<04:27, 44.51s/it]"
     ]
    },
    {
     "name": "stdout",
     "output_type": "stream",
     "text": [
      "Epoch 14/20:\n",
      "Training Loss: 0.9538, Training Accuracy: 0.5443, train_f1: 0.5136\n",
      "Validation Loss: 1.7843, Validation Accuracy: 0.3676, val_f1: 0.2489\n"
     ]
    },
    {
     "name": "stderr",
     "output_type": "stream",
     "text": [
      "Training procedure:  75%|███████▌  | 15/20 [11:00<03:41, 44.20s/it]"
     ]
    },
    {
     "name": "stdout",
     "output_type": "stream",
     "text": [
      "Epoch 15/20:\n",
      "Training Loss: 0.8597, Training Accuracy: 0.5799, train_f1: 0.5551\n",
      "Validation Loss: 1.7673, Validation Accuracy: 0.3986, val_f1: 0.2666\n"
     ]
    },
    {
     "name": "stderr",
     "output_type": "stream",
     "text": [
      "Training procedure:  80%|████████  | 16/20 [11:45<02:57, 44.42s/it]"
     ]
    },
    {
     "name": "stdout",
     "output_type": "stream",
     "text": [
      "Epoch 16/20:\n",
      "Training Loss: 0.7861, Training Accuracy: 0.6114, train_f1: 0.5925\n",
      "Validation Loss: 1.8185, Validation Accuracy: 0.3629, val_f1: 0.2503\n"
     ]
    },
    {
     "name": "stderr",
     "output_type": "stream",
     "text": [
      "Training procedure:  85%|████████▌ | 17/20 [12:28<02:11, 43.96s/it]"
     ]
    },
    {
     "name": "stdout",
     "output_type": "stream",
     "text": [
      "Epoch 17/20:\n",
      "Training Loss: 0.6856, Training Accuracy: 0.6368, train_f1: 0.6198\n",
      "Validation Loss: 1.8695, Validation Accuracy: 0.3955, val_f1: 0.2560\n"
     ]
    },
    {
     "name": "stderr",
     "output_type": "stream",
     "text": [
      "Training procedure:  90%|█████████ | 18/20 [13:13<01:28, 44.40s/it]"
     ]
    },
    {
     "name": "stdout",
     "output_type": "stream",
     "text": [
      "Epoch 18/20:\n",
      "Training Loss: 0.6414, Training Accuracy: 0.6542, train_f1: 0.6386\n",
      "Validation Loss: 1.8185, Validation Accuracy: 0.4222, val_f1: 0.2662\n"
     ]
    },
    {
     "name": "stderr",
     "output_type": "stream",
     "text": [
      "Training procedure:  95%|█████████▌| 19/20 [14:00<00:44, 44.99s/it]"
     ]
    },
    {
     "name": "stdout",
     "output_type": "stream",
     "text": [
      "Epoch 19/20:\n",
      "Training Loss: 0.5611, Training Accuracy: 0.6865, train_f1: 0.6758\n",
      "Validation Loss: 1.9114, Validation Accuracy: 0.4125, val_f1: 0.2593\n"
     ]
    },
    {
     "name": "stderr",
     "output_type": "stream",
     "text": [
      "Training procedure: 100%|██████████| 20/20 [14:44<00:00, 44.23s/it]"
     ]
    },
    {
     "name": "stdout",
     "output_type": "stream",
     "text": [
      "Epoch 20/20:\n",
      "Training Loss: 0.5258, Training Accuracy: 0.7056, train_f1: 0.6943\n",
      "Validation Loss: 1.9527, Validation Accuracy: 0.4200, val_f1: 0.2630\n"
     ]
    },
    {
     "name": "stderr",
     "output_type": "stream",
     "text": [
      "\n"
     ]
    },
    {
     "name": "stdout",
     "output_type": "stream",
     "text": [
      "Test Accuracy: 0.4359\n",
      "Test F1: 0.2863\n",
      "Test Precision: 0.28556328489290217\n",
      "Test Recall: 0.30489515643897347\n"
     ]
    }
   ],
   "source": [
    "model = timm.create_model('rexnet_150', num_classes = 5, pretrained=False)\n",
    "training(lr=1e-5, model = model, train_dataloader= train_dataloader, val_dataloader=val_dataloader, num_epochs=20, model_name=f'rexnet_150_np', loss_weights=weights, wd = 1e-5, optimize=0)\n",
    "_ = test(model, test_dataloader, model_name=f'rexnet_150_np')\n",
    "torch.cuda.empty_cache()  # PyTorch\n"
   ]
  },
  {
   "cell_type": "markdown",
   "id": "bba968df-b2d1-4bf5-a1d3-5411d3c64e61",
   "metadata": {},
   "source": [
    "# SoTA Architectures - Pretrained"
   ]
  },
  {
   "cell_type": "code",
   "execution_count": 20,
   "id": "6a9bbb44-ef78-4c46-b2f4-63425d940b75",
   "metadata": {},
   "outputs": [
    {
     "name": "stderr",
     "output_type": "stream",
     "text": [
      "Training procedure:   7%|▋         | 1/15 [00:42<09:56, 42.63s/it]"
     ]
    },
    {
     "name": "stdout",
     "output_type": "stream",
     "text": [
      "Epoch 1/15:\n",
      "Training Loss: 1.6075, Training Accuracy: 0.0817, train_f1: 0.0979\n",
      "Validation Loss: 1.6267, Validation Accuracy: 0.1115, val_f1: 0.1284\n"
     ]
    },
    {
     "name": "stderr",
     "output_type": "stream",
     "text": [
      "Training procedure:  13%|█▎        | 2/15 [01:25<09:12, 42.53s/it]"
     ]
    },
    {
     "name": "stdout",
     "output_type": "stream",
     "text": [
      "Epoch 2/15:\n",
      "Training Loss: 1.5882, Training Accuracy: 0.2240, train_f1: 0.2083\n",
      "Validation Loss: 1.5824, Validation Accuracy: 0.3342, val_f1: 0.2588\n"
     ]
    },
    {
     "name": "stderr",
     "output_type": "stream",
     "text": [
      "Training procedure:  20%|██        | 3/15 [02:08<08:34, 42.88s/it]"
     ]
    },
    {
     "name": "stdout",
     "output_type": "stream",
     "text": [
      "Epoch 3/15:\n",
      "Training Loss: 1.5688, Training Accuracy: 0.4497, train_f1: 0.3386\n",
      "Validation Loss: 1.5483, Validation Accuracy: 0.5061, val_f1: 0.3457\n"
     ]
    },
    {
     "name": "stderr",
     "output_type": "stream",
     "text": [
      "Training procedure:  27%|██▋       | 4/15 [02:51<07:51, 42.89s/it]"
     ]
    },
    {
     "name": "stdout",
     "output_type": "stream",
     "text": [
      "Epoch 4/15:\n",
      "Training Loss: 1.5458, Training Accuracy: 0.5475, train_f1: 0.4104\n",
      "Validation Loss: 1.5170, Validation Accuracy: 0.5605, val_f1: 0.3750\n"
     ]
    },
    {
     "name": "stderr",
     "output_type": "stream",
     "text": [
      "Training procedure:  33%|███▎      | 5/15 [03:35<07:13, 43.32s/it]"
     ]
    },
    {
     "name": "stdout",
     "output_type": "stream",
     "text": [
      "Epoch 5/15:\n",
      "Training Loss: 1.5185, Training Accuracy: 0.6142, train_f1: 0.4535\n",
      "Validation Loss: 1.4814, Validation Accuracy: 0.5939, val_f1: 0.4054\n"
     ]
    },
    {
     "name": "stderr",
     "output_type": "stream",
     "text": [
      "Training procedure:  40%|████      | 6/15 [04:18<06:28, 43.18s/it]"
     ]
    },
    {
     "name": "stdout",
     "output_type": "stream",
     "text": [
      "Epoch 6/15:\n",
      "Training Loss: 1.4800, Training Accuracy: 0.6435, train_f1: 0.4923\n",
      "Validation Loss: 1.4481, Validation Accuracy: 0.5998, val_f1: 0.4210\n"
     ]
    },
    {
     "name": "stderr",
     "output_type": "stream",
     "text": [
      "Training procedure:  47%|████▋     | 7/15 [05:00<05:44, 43.02s/it]"
     ]
    },
    {
     "name": "stdout",
     "output_type": "stream",
     "text": [
      "Epoch 7/15:\n",
      "Training Loss: 1.4327, Training Accuracy: 0.6555, train_f1: 0.5037\n",
      "Validation Loss: 1.3882, Validation Accuracy: 0.6285, val_f1: 0.4384\n"
     ]
    },
    {
     "name": "stderr",
     "output_type": "stream",
     "text": [
      "Training procedure:  53%|█████▎    | 8/15 [05:44<05:02, 43.21s/it]"
     ]
    },
    {
     "name": "stdout",
     "output_type": "stream",
     "text": [
      "Epoch 8/15:\n",
      "Training Loss: 1.3740, Training Accuracy: 0.6697, train_f1: 0.5166\n",
      "Validation Loss: 1.3306, Validation Accuracy: 0.6444, val_f1: 0.4591\n"
     ]
    },
    {
     "name": "stderr",
     "output_type": "stream",
     "text": [
      "Training procedure:  60%|██████    | 9/15 [06:28<04:19, 43.27s/it]"
     ]
    },
    {
     "name": "stdout",
     "output_type": "stream",
     "text": [
      "Epoch 9/15:\n",
      "Training Loss: 1.3080, Training Accuracy: 0.6870, train_f1: 0.5347\n",
      "Validation Loss: 1.2655, Validation Accuracy: 0.6614, val_f1: 0.4740\n"
     ]
    },
    {
     "name": "stderr",
     "output_type": "stream",
     "text": [
      "Training procedure:  67%|██████▋   | 10/15 [07:10<03:35, 43.15s/it]"
     ]
    },
    {
     "name": "stdout",
     "output_type": "stream",
     "text": [
      "Epoch 10/15:\n",
      "Training Loss: 1.2447, Training Accuracy: 0.6982, train_f1: 0.5541\n",
      "Validation Loss: 1.2258, Validation Accuracy: 0.6583, val_f1: 0.4873\n"
     ]
    },
    {
     "name": "stderr",
     "output_type": "stream",
     "text": [
      "Training procedure:  73%|███████▎  | 11/15 [07:54<02:52, 43.23s/it]"
     ]
    },
    {
     "name": "stdout",
     "output_type": "stream",
     "text": [
      "Epoch 11/15:\n",
      "Training Loss: 1.1852, Training Accuracy: 0.7108, train_f1: 0.5742\n",
      "Validation Loss: 1.1646, Validation Accuracy: 0.6720, val_f1: 0.5006\n"
     ]
    },
    {
     "name": "stderr",
     "output_type": "stream",
     "text": [
      "Training procedure:  80%|████████  | 12/15 [08:37<02:09, 43.32s/it]"
     ]
    },
    {
     "name": "stdout",
     "output_type": "stream",
     "text": [
      "Epoch 12/15:\n",
      "Training Loss: 1.1229, Training Accuracy: 0.7170, train_f1: 0.5885\n",
      "Validation Loss: 1.1044, Validation Accuracy: 0.6848, val_f1: 0.5176\n"
     ]
    },
    {
     "name": "stderr",
     "output_type": "stream",
     "text": [
      "Training procedure:  87%|████████▋ | 13/15 [09:21<01:26, 43.31s/it]"
     ]
    },
    {
     "name": "stdout",
     "output_type": "stream",
     "text": [
      "Epoch 13/15:\n",
      "Training Loss: 1.0705, Training Accuracy: 0.7230, train_f1: 0.6017\n",
      "Validation Loss: 1.0524, Validation Accuracy: 0.7015, val_f1: 0.5392\n"
     ]
    },
    {
     "name": "stderr",
     "output_type": "stream",
     "text": [
      "Training procedure:  93%|█████████▎| 14/15 [10:04<00:43, 43.34s/it]"
     ]
    },
    {
     "name": "stdout",
     "output_type": "stream",
     "text": [
      "Epoch 14/15:\n",
      "Training Loss: 1.0145, Training Accuracy: 0.7303, train_f1: 0.6207\n",
      "Validation Loss: 1.0572, Validation Accuracy: 0.6870, val_f1: 0.5444\n"
     ]
    },
    {
     "name": "stderr",
     "output_type": "stream",
     "text": [
      "Training procedure: 100%|██████████| 15/15 [10:47<00:00, 43.18s/it]"
     ]
    },
    {
     "name": "stdout",
     "output_type": "stream",
     "text": [
      "Epoch 15/15:\n",
      "Training Loss: 0.9715, Training Accuracy: 0.7344, train_f1: 0.6296\n",
      "Validation Loss: 1.0189, Validation Accuracy: 0.6937, val_f1: 0.5502\n"
     ]
    },
    {
     "name": "stderr",
     "output_type": "stream",
     "text": [
      "\n"
     ]
    },
    {
     "name": "stdout",
     "output_type": "stream",
     "text": [
      "Test Accuracy: 0.6848\n",
      "Test F1: 0.5377\n",
      "Test Precision: 0.5191178608126455\n",
      "Test Recall: 0.5689174880266705\n"
     ]
    }
   ],
   "source": [
    "model = timm.create_model('resnet50', num_classes = 5, pretrained=True)\n",
    "training(lr=1e-5, model = model, train_dataloader= train_dataloader, val_dataloader=val_dataloader, num_epochs=15, model_name=f'resnet50_pt', loss_weights=weights, wd = 1e-5, optimize=0)\n",
    "_ = test(model, test_dataloader, model_name=f'resnet50_pt')\n",
    "torch.cuda.empty_cache()  # PyTorch\n"
   ]
  },
  {
   "cell_type": "code",
   "execution_count": 21,
   "id": "9a5b663d-1693-42ce-a280-81c879887b22",
   "metadata": {},
   "outputs": [
    {
     "name": "stderr",
     "output_type": "stream",
     "text": [
      "Training procedure:   7%|▋         | 1/15 [00:42<09:55, 42.51s/it]"
     ]
    },
    {
     "name": "stdout",
     "output_type": "stream",
     "text": [
      "Epoch 1/15:\n",
      "Training Loss: 2.9849, Training Accuracy: 0.2129, train_f1: 0.1931\n",
      "Validation Loss: 2.3139, Validation Accuracy: 0.3074, val_f1: 0.2584\n"
     ]
    },
    {
     "name": "stderr",
     "output_type": "stream",
     "text": [
      "Training procedure:  13%|█▎        | 2/15 [01:25<09:15, 42.69s/it]"
     ]
    },
    {
     "name": "stdout",
     "output_type": "stream",
     "text": [
      "Epoch 2/15:\n",
      "Training Loss: 2.0627, Training Accuracy: 0.3750, train_f1: 0.3133\n",
      "Validation Loss: 1.7085, Validation Accuracy: 0.4334, val_f1: 0.3361\n"
     ]
    },
    {
     "name": "stderr",
     "output_type": "stream",
     "text": [
      "Training procedure:  20%|██        | 3/15 [02:08<08:34, 42.84s/it]"
     ]
    },
    {
     "name": "stdout",
     "output_type": "stream",
     "text": [
      "Epoch 3/15:\n",
      "Training Loss: 1.6528, Training Accuracy: 0.4823, train_f1: 0.3936\n",
      "Validation Loss: 1.4651, Validation Accuracy: 0.5072, val_f1: 0.3934\n"
     ]
    },
    {
     "name": "stderr",
     "output_type": "stream",
     "text": [
      "Training procedure:  27%|██▋       | 4/15 [02:51<07:51, 42.90s/it]"
     ]
    },
    {
     "name": "stdout",
     "output_type": "stream",
     "text": [
      "Epoch 4/15:\n",
      "Training Loss: 1.3554, Training Accuracy: 0.5583, train_f1: 0.4703\n",
      "Validation Loss: 1.3775, Validation Accuracy: 0.5332, val_f1: 0.4153\n"
     ]
    },
    {
     "name": "stderr",
     "output_type": "stream",
     "text": [
      "Training procedure:  33%|███▎      | 5/15 [03:34<07:11, 43.11s/it]"
     ]
    },
    {
     "name": "stdout",
     "output_type": "stream",
     "text": [
      "Epoch 5/15:\n",
      "Training Loss: 1.1455, Training Accuracy: 0.6056, train_f1: 0.5143\n",
      "Validation Loss: 1.2516, Validation Accuracy: 0.5755, val_f1: 0.4515\n"
     ]
    },
    {
     "name": "stderr",
     "output_type": "stream",
     "text": [
      "Training procedure:  40%|████      | 6/15 [04:17<06:25, 42.87s/it]"
     ]
    },
    {
     "name": "stdout",
     "output_type": "stream",
     "text": [
      "Epoch 6/15:\n",
      "Training Loss: 0.9748, Training Accuracy: 0.6518, train_f1: 0.5686\n",
      "Validation Loss: 1.0986, Validation Accuracy: 0.6159, val_f1: 0.4779\n"
     ]
    },
    {
     "name": "stderr",
     "output_type": "stream",
     "text": [
      "Training procedure:  47%|████▋     | 7/15 [05:00<05:43, 42.89s/it]"
     ]
    },
    {
     "name": "stdout",
     "output_type": "stream",
     "text": [
      "Epoch 7/15:\n",
      "Training Loss: 0.8385, Training Accuracy: 0.6936, train_f1: 0.6206\n",
      "Validation Loss: 1.0489, Validation Accuracy: 0.6341, val_f1: 0.4983\n"
     ]
    },
    {
     "name": "stderr",
     "output_type": "stream",
     "text": [
      "Training procedure:  53%|█████▎    | 8/15 [05:42<04:59, 42.76s/it]"
     ]
    },
    {
     "name": "stdout",
     "output_type": "stream",
     "text": [
      "Epoch 8/15:\n",
      "Training Loss: 0.7123, Training Accuracy: 0.7256, train_f1: 0.6615\n",
      "Validation Loss: 1.0371, Validation Accuracy: 0.6424, val_f1: 0.5067\n"
     ]
    },
    {
     "name": "stderr",
     "output_type": "stream",
     "text": [
      "Training procedure:  60%|██████    | 9/15 [06:25<04:15, 42.64s/it]"
     ]
    },
    {
     "name": "stdout",
     "output_type": "stream",
     "text": [
      "Epoch 9/15:\n",
      "Training Loss: 0.6268, Training Accuracy: 0.7574, train_f1: 0.6966\n",
      "Validation Loss: 0.9994, Validation Accuracy: 0.6591, val_f1: 0.5134\n"
     ]
    },
    {
     "name": "stderr",
     "output_type": "stream",
     "text": [
      "Training procedure:  67%|██████▋   | 10/15 [07:07<03:33, 42.63s/it]"
     ]
    },
    {
     "name": "stdout",
     "output_type": "stream",
     "text": [
      "Epoch 10/15:\n",
      "Training Loss: 0.5422, Training Accuracy: 0.7830, train_f1: 0.7357\n",
      "Validation Loss: 0.9649, Validation Accuracy: 0.6787, val_f1: 0.5301\n"
     ]
    },
    {
     "name": "stderr",
     "output_type": "stream",
     "text": [
      "Training procedure:  73%|███████▎  | 11/15 [07:51<02:51, 42.96s/it]"
     ]
    },
    {
     "name": "stdout",
     "output_type": "stream",
     "text": [
      "Epoch 11/15:\n",
      "Training Loss: 0.4577, Training Accuracy: 0.8161, train_f1: 0.7769\n",
      "Validation Loss: 0.9413, Validation Accuracy: 0.6823, val_f1: 0.5371\n"
     ]
    },
    {
     "name": "stderr",
     "output_type": "stream",
     "text": [
      "Training procedure:  80%|████████  | 12/15 [08:35<02:09, 43.25s/it]"
     ]
    },
    {
     "name": "stdout",
     "output_type": "stream",
     "text": [
      "Epoch 12/15:\n",
      "Training Loss: 0.4172, Training Accuracy: 0.8294, train_f1: 0.7903\n",
      "Validation Loss: 0.9235, Validation Accuracy: 0.6923, val_f1: 0.5430\n"
     ]
    },
    {
     "name": "stderr",
     "output_type": "stream",
     "text": [
      "Training procedure:  87%|████████▋ | 13/15 [09:19<01:27, 43.57s/it]"
     ]
    },
    {
     "name": "stdout",
     "output_type": "stream",
     "text": [
      "Epoch 13/15:\n",
      "Training Loss: 0.3421, Training Accuracy: 0.8553, train_f1: 0.8253\n",
      "Validation Loss: 0.9254, Validation Accuracy: 0.7054, val_f1: 0.5482\n"
     ]
    },
    {
     "name": "stderr",
     "output_type": "stream",
     "text": [
      "Training procedure:  93%|█████████▎| 14/15 [10:02<00:43, 43.43s/it]"
     ]
    },
    {
     "name": "stdout",
     "output_type": "stream",
     "text": [
      "Epoch 14/15:\n",
      "Training Loss: 0.3270, Training Accuracy: 0.8568, train_f1: 0.8274\n",
      "Validation Loss: 0.9219, Validation Accuracy: 0.7101, val_f1: 0.5627\n"
     ]
    },
    {
     "name": "stderr",
     "output_type": "stream",
     "text": [
      "Training procedure: 100%|██████████| 15/15 [10:45<00:00, 43.04s/it]"
     ]
    },
    {
     "name": "stdout",
     "output_type": "stream",
     "text": [
      "Epoch 15/15:\n",
      "Training Loss: 0.2721, Training Accuracy: 0.8799, train_f1: 0.8590\n",
      "Validation Loss: 0.9327, Validation Accuracy: 0.7037, val_f1: 0.5570\n"
     ]
    },
    {
     "name": "stderr",
     "output_type": "stream",
     "text": [
      "\n"
     ]
    },
    {
     "name": "stdout",
     "output_type": "stream",
     "text": [
      "Test Accuracy: 0.7009\n",
      "Test F1: 0.5471\n",
      "Test Precision: 0.5305247827510802\n",
      "Test Recall: 0.5707473198126448\n"
     ]
    }
   ],
   "source": [
    "model = timm.create_model('rexnet_150', num_classes = 5, pretrained=True)\n",
    "training(lr=1e-5, model = model, train_dataloader= train_dataloader, val_dataloader=val_dataloader, num_epochs=15, model_name=f'rexnet_150_pt', loss_weights=weights, wd = 1e-5, optimize=0)\n",
    "_ = test(model, test_dataloader, model_name=f'rexnet_150_pt')\n",
    "torch.cuda.empty_cache()  # PyTorch\n",
    "\n"
   ]
  },
  {
   "cell_type": "code",
   "execution_count": null,
   "id": "521aad4a-4f57-4a77-a092-02aabdba8b4d",
   "metadata": {},
   "outputs": [],
   "source": []
  },
  {
   "cell_type": "markdown",
   "id": "401d17ba-1e54-4b56-841e-cd2d0e63045f",
   "metadata": {},
   "source": [
    "# Hyperparameter search - Bayesian Optimization\n"
   ]
  },
  {
   "cell_type": "code",
   "execution_count": 8,
   "id": "c13d0e9d-c7b2-4b94-89d9-be956229a342",
   "metadata": {},
   "outputs": [],
   "source": [
    "from skopt.space import Real, Integer, Categorical\n",
    "from skopt import gp_minimize\n",
    "from skopt.utils import use_named_args\n",
    "\n",
    "\n",
    "search_space = []\n",
    "search_space.append(Real(1e-6, 1e-3, 'log-uniform', name='learning_rate'))\n",
    "search_space.append(Categorical([0, 1], name='optimize'))\n",
    "search_space.append(Real(1e-6, 1e-3, 'log-uniform', name='wd'))\n",
    "#search_space.append(Categorical([weights.cpu(), weights.cpu()], name='lw'))\n",
    "search_space.append(Integer(10, 25, name='num_epoch'))\n",
    "search_space.append(Categorical([train_dataloader], name = 'train_dataloader'))\n",
    "search_space.append(Categorical([val_dataloader], name = 'val_dataloader'))\n",
    "search_space.append(Categorical([test_dataloader], name = 'test_dataloader'))\n"
   ]
  },
  {
   "cell_type": "code",
   "execution_count": 10,
   "id": "80ec49e7-987b-45e9-8759-109716b965fd",
   "metadata": {},
   "outputs": [
    {
     "name": "stdout",
     "output_type": "stream",
     "text": [
      "Learning Rate: 0.00024526126311336793\n",
      "Optimizer: 0\n",
      "num_epoch: 19\n",
      "Weight Decay: 0.00021830968390524624\n",
      "cuda:0\n"
     ]
    },
    {
     "name": "stderr",
     "output_type": "stream",
     "text": [
      "Training procedure:   5%|▌         | 1/19 [01:44<31:15, 104.22s/it]"
     ]
    },
    {
     "name": "stdout",
     "output_type": "stream",
     "text": [
      "Epoch 1/19:\n",
      "Training Loss: 0.9712, Training Accuracy: 0.7093, train_f1: 0.5192\n",
      "Validation Loss: 0.5919, Validation Accuracy: 0.7943, val_f1: 0.6425\n"
     ]
    },
    {
     "name": "stderr",
     "output_type": "stream",
     "text": [
      "Training procedure:  11%|█         | 2/19 [02:28<19:35, 69.14s/it] "
     ]
    },
    {
     "name": "stdout",
     "output_type": "stream",
     "text": [
      "Epoch 2/19:\n",
      "Training Loss: 0.2615, Training Accuracy: 0.9088, train_f1: 0.8393\n",
      "Validation Loss: 0.6979, Validation Accuracy: 0.7854, val_f1: 0.6329\n"
     ]
    },
    {
     "name": "stderr",
     "output_type": "stream",
     "text": [
      "Training procedure:  16%|█▌        | 3/19 [03:15<15:41, 58.85s/it]"
     ]
    },
    {
     "name": "stdout",
     "output_type": "stream",
     "text": [
      "Epoch 3/19:\n",
      "Training Loss: 0.0739, Training Accuracy: 0.9774, train_f1: 0.9608\n",
      "Validation Loss: 0.7690, Validation Accuracy: 0.7971, val_f1: 0.6459\n"
     ]
    },
    {
     "name": "stderr",
     "output_type": "stream",
     "text": [
      "Training procedure:  21%|██        | 4/19 [03:59<13:15, 53.07s/it]"
     ]
    },
    {
     "name": "stdout",
     "output_type": "stream",
     "text": [
      "Epoch 4/19:\n",
      "Training Loss: 0.0361, Training Accuracy: 0.9900, train_f1: 0.9835\n",
      "Validation Loss: 0.8839, Validation Accuracy: 0.8055, val_f1: 0.6569\n"
     ]
    },
    {
     "name": "stderr",
     "output_type": "stream",
     "text": [
      "Training procedure:  26%|██▋       | 5/19 [04:46<11:54, 51.02s/it]"
     ]
    },
    {
     "name": "stdout",
     "output_type": "stream",
     "text": [
      "Epoch 5/19:\n",
      "Training Loss: 0.0275, Training Accuracy: 0.9929, train_f1: 0.9877\n",
      "Validation Loss: 0.9276, Validation Accuracy: 0.8046, val_f1: 0.6547\n"
     ]
    },
    {
     "name": "stderr",
     "output_type": "stream",
     "text": [
      "Training procedure:  32%|███▏      | 6/19 [05:34<10:45, 49.66s/it]"
     ]
    },
    {
     "name": "stdout",
     "output_type": "stream",
     "text": [
      "Epoch 6/19:\n",
      "Training Loss: 0.0731, Training Accuracy: 0.9744, train_f1: 0.9583\n",
      "Validation Loss: 0.8477, Validation Accuracy: 0.8069, val_f1: 0.6692\n"
     ]
    },
    {
     "name": "stderr",
     "output_type": "stream",
     "text": [
      "Training procedure:  37%|███▋      | 7/19 [06:19<09:37, 48.14s/it]"
     ]
    },
    {
     "name": "stdout",
     "output_type": "stream",
     "text": [
      "Epoch 7/19:\n",
      "Training Loss: 0.0559, Training Accuracy: 0.9791, train_f1: 0.9678\n",
      "Validation Loss: 0.8878, Validation Accuracy: 0.8060, val_f1: 0.6634\n"
     ]
    },
    {
     "name": "stderr",
     "output_type": "stream",
     "text": [
      "Training procedure:  42%|████▏     | 8/19 [07:06<08:47, 47.93s/it]"
     ]
    },
    {
     "name": "stdout",
     "output_type": "stream",
     "text": [
      "Epoch 8/19:\n",
      "Training Loss: 0.0300, Training Accuracy: 0.9912, train_f1: 0.9863\n",
      "Validation Loss: 0.9453, Validation Accuracy: 0.8163, val_f1: 0.6789\n"
     ]
    },
    {
     "name": "stderr",
     "output_type": "stream",
     "text": [
      "Training procedure:  47%|████▋     | 9/19 [07:50<07:47, 46.70s/it]"
     ]
    },
    {
     "name": "stdout",
     "output_type": "stream",
     "text": [
      "Epoch 9/19:\n",
      "Training Loss: 0.0291, Training Accuracy: 0.9904, train_f1: 0.9860\n",
      "Validation Loss: 0.9312, Validation Accuracy: 0.8099, val_f1: 0.6676\n"
     ]
    },
    {
     "name": "stderr",
     "output_type": "stream",
     "text": [
      "Training procedure:  53%|█████▎    | 10/19 [08:34<06:53, 45.99s/it]"
     ]
    },
    {
     "name": "stdout",
     "output_type": "stream",
     "text": [
      "Epoch 10/19:\n",
      "Training Loss: 0.0386, Training Accuracy: 0.9864, train_f1: 0.9792\n",
      "Validation Loss: 0.9978, Validation Accuracy: 0.8071, val_f1: 0.6615\n"
     ]
    },
    {
     "name": "stderr",
     "output_type": "stream",
     "text": [
      "Training procedure:  58%|█████▊    | 11/19 [09:21<06:09, 46.21s/it]"
     ]
    },
    {
     "name": "stdout",
     "output_type": "stream",
     "text": [
      "Epoch 11/19:\n",
      "Training Loss: 0.0398, Training Accuracy: 0.9870, train_f1: 0.9797\n",
      "Validation Loss: 1.0308, Validation Accuracy: 0.8069, val_f1: 0.6549\n"
     ]
    },
    {
     "name": "stderr",
     "output_type": "stream",
     "text": [
      "Training procedure:  63%|██████▎   | 12/19 [10:07<05:22, 46.11s/it]"
     ]
    },
    {
     "name": "stdout",
     "output_type": "stream",
     "text": [
      "Epoch 12/19:\n",
      "Training Loss: 0.0421, Training Accuracy: 0.9850, train_f1: 0.9771\n",
      "Validation Loss: 0.9995, Validation Accuracy: 0.8147, val_f1: 0.6762\n"
     ]
    },
    {
     "name": "stderr",
     "output_type": "stream",
     "text": [
      "Training procedure:  68%|██████▊   | 13/19 [10:52<04:33, 45.65s/it]"
     ]
    },
    {
     "name": "stdout",
     "output_type": "stream",
     "text": [
      "Epoch 13/19:\n",
      "Training Loss: 0.0292, Training Accuracy: 0.9889, train_f1: 0.9825\n",
      "Validation Loss: 0.9303, Validation Accuracy: 0.8082, val_f1: 0.6657\n"
     ]
    },
    {
     "name": "stderr",
     "output_type": "stream",
     "text": [
      "Training procedure:  74%|███████▎  | 14/19 [11:38<03:49, 45.85s/it]"
     ]
    },
    {
     "name": "stdout",
     "output_type": "stream",
     "text": [
      "Epoch 14/19:\n",
      "Training Loss: 0.0181, Training Accuracy: 0.9945, train_f1: 0.9916\n",
      "Validation Loss: 1.0540, Validation Accuracy: 0.8163, val_f1: 0.6659\n"
     ]
    },
    {
     "name": "stderr",
     "output_type": "stream",
     "text": [
      "Training procedure:  79%|███████▉  | 15/19 [12:24<03:03, 45.93s/it]"
     ]
    },
    {
     "name": "stdout",
     "output_type": "stream",
     "text": [
      "Epoch 15/19:\n",
      "Training Loss: 0.0118, Training Accuracy: 0.9969, train_f1: 0.9953\n",
      "Validation Loss: 0.9971, Validation Accuracy: 0.8197, val_f1: 0.6830\n"
     ]
    },
    {
     "name": "stderr",
     "output_type": "stream",
     "text": [
      "Training procedure:  84%|████████▍ | 16/19 [13:07<02:15, 45.08s/it]"
     ]
    },
    {
     "name": "stdout",
     "output_type": "stream",
     "text": [
      "Epoch 16/19:\n",
      "Training Loss: 0.0374, Training Accuracy: 0.9879, train_f1: 0.9842\n",
      "Validation Loss: 0.9878, Validation Accuracy: 0.8066, val_f1: 0.6618\n"
     ]
    },
    {
     "name": "stderr",
     "output_type": "stream",
     "text": [
      "Training procedure:  89%|████████▉ | 17/19 [13:51<01:29, 44.69s/it]"
     ]
    },
    {
     "name": "stdout",
     "output_type": "stream",
     "text": [
      "Epoch 17/19:\n",
      "Training Loss: 0.0442, Training Accuracy: 0.9848, train_f1: 0.9728\n",
      "Validation Loss: 1.1328, Validation Accuracy: 0.8108, val_f1: 0.6513\n"
     ]
    },
    {
     "name": "stderr",
     "output_type": "stream",
     "text": [
      "Training procedure:  95%|█████████▍| 18/19 [14:36<00:44, 44.78s/it]"
     ]
    },
    {
     "name": "stdout",
     "output_type": "stream",
     "text": [
      "Epoch 18/19:\n",
      "Training Loss: 0.0437, Training Accuracy: 0.9853, train_f1: 0.9770\n",
      "Validation Loss: 0.9708, Validation Accuracy: 0.8099, val_f1: 0.6702\n"
     ]
    },
    {
     "name": "stderr",
     "output_type": "stream",
     "text": [
      "Training procedure: 100%|██████████| 19/19 [15:21<00:00, 48.52s/it]"
     ]
    },
    {
     "name": "stdout",
     "output_type": "stream",
     "text": [
      "Epoch 19/19:\n",
      "Training Loss: 0.0157, Training Accuracy: 0.9953, train_f1: 0.9927\n",
      "Validation Loss: 1.0339, Validation Accuracy: 0.8283, val_f1: 0.6857\n"
     ]
    },
    {
     "name": "stderr",
     "output_type": "stream",
     "text": [
      "\n"
     ]
    },
    {
     "name": "stdout",
     "output_type": "stream",
     "text": [
      "Test Accuracy: 0.8197\n",
      "Test F1: 0.6624\n",
      "Test Precision: 0.7121265182944385\n",
      "Test Recall: 0.6368505946485972\n",
      "Learning Rate: 1.0025956902289556e-05\n",
      "Optimizer: 0\n",
      "num_epoch: 11\n",
      "Weight Decay: 8.967376801947966e-05\n",
      "cuda:0\n"
     ]
    },
    {
     "name": "stderr",
     "output_type": "stream",
     "text": [
      "Training procedure:   9%|▉         | 1/11 [00:44<07:28, 44.87s/it]"
     ]
    },
    {
     "name": "stdout",
     "output_type": "stream",
     "text": [
      "Epoch 1/11:\n",
      "Training Loss: 2.1993, Training Accuracy: 0.4328, train_f1: 0.2420\n",
      "Validation Loss: 1.4793, Validation Accuracy: 0.5953, val_f1: 0.3342\n"
     ]
    },
    {
     "name": "stderr",
     "output_type": "stream",
     "text": [
      "Training procedure:  18%|█▊        | 2/11 [01:29<06:41, 44.64s/it]"
     ]
    },
    {
     "name": "stdout",
     "output_type": "stream",
     "text": [
      "Epoch 2/11:\n",
      "Training Loss: 1.4307, Training Accuracy: 0.6000, train_f1: 0.3631\n",
      "Validation Loss: 1.1855, Validation Accuracy: 0.6477, val_f1: 0.4009\n"
     ]
    },
    {
     "name": "stderr",
     "output_type": "stream",
     "text": [
      "Training procedure:  27%|██▋       | 3/11 [02:16<06:05, 45.63s/it]"
     ]
    },
    {
     "name": "stdout",
     "output_type": "stream",
     "text": [
      "Epoch 3/11:\n",
      "Training Loss: 1.1100, Training Accuracy: 0.6596, train_f1: 0.4426\n",
      "Validation Loss: 1.0861, Validation Accuracy: 0.6795, val_f1: 0.4447\n"
     ]
    },
    {
     "name": "stderr",
     "output_type": "stream",
     "text": [
      "Training procedure:  36%|███▋      | 4/11 [03:03<05:24, 46.38s/it]"
     ]
    },
    {
     "name": "stdout",
     "output_type": "stream",
     "text": [
      "Epoch 4/11:\n",
      "Training Loss: 0.9246, Training Accuracy: 0.7055, train_f1: 0.5148\n",
      "Validation Loss: 1.0055, Validation Accuracy: 0.6996, val_f1: 0.4735\n"
     ]
    },
    {
     "name": "stderr",
     "output_type": "stream",
     "text": [
      "Training procedure:  45%|████▌     | 5/11 [03:47<04:32, 45.33s/it]"
     ]
    },
    {
     "name": "stdout",
     "output_type": "stream",
     "text": [
      "Epoch 5/11:\n",
      "Training Loss: 0.7756, Training Accuracy: 0.7426, train_f1: 0.5718\n",
      "Validation Loss: 0.9411, Validation Accuracy: 0.7009, val_f1: 0.4903\n"
     ]
    },
    {
     "name": "stderr",
     "output_type": "stream",
     "text": [
      "Training procedure:  55%|█████▍    | 6/11 [04:33<03:47, 45.52s/it]"
     ]
    },
    {
     "name": "stdout",
     "output_type": "stream",
     "text": [
      "Epoch 6/11:\n",
      "Training Loss: 0.6607, Training Accuracy: 0.7668, train_f1: 0.6082\n",
      "Validation Loss: 0.9334, Validation Accuracy: 0.7191, val_f1: 0.5042\n"
     ]
    },
    {
     "name": "stderr",
     "output_type": "stream",
     "text": [
      "Training procedure:  64%|██████▎   | 7/11 [05:19<03:02, 45.69s/it]"
     ]
    },
    {
     "name": "stdout",
     "output_type": "stream",
     "text": [
      "Epoch 7/11:\n",
      "Training Loss: 0.5807, Training Accuracy: 0.7930, train_f1: 0.6473\n",
      "Validation Loss: 0.8819, Validation Accuracy: 0.7285, val_f1: 0.5238\n"
     ]
    },
    {
     "name": "stderr",
     "output_type": "stream",
     "text": [
      "Training procedure:  73%|███████▎  | 8/11 [06:05<02:17, 45.94s/it]"
     ]
    },
    {
     "name": "stdout",
     "output_type": "stream",
     "text": [
      "Epoch 8/11:\n",
      "Training Loss: 0.5050, Training Accuracy: 0.8204, train_f1: 0.6927\n",
      "Validation Loss: 0.8934, Validation Accuracy: 0.7324, val_f1: 0.5349\n"
     ]
    },
    {
     "name": "stderr",
     "output_type": "stream",
     "text": [
      "Training procedure:  82%|████████▏ | 9/11 [06:50<01:31, 45.78s/it]"
     ]
    },
    {
     "name": "stdout",
     "output_type": "stream",
     "text": [
      "Epoch 9/11:\n",
      "Training Loss: 0.4334, Training Accuracy: 0.8443, train_f1: 0.7368\n",
      "Validation Loss: 0.8574, Validation Accuracy: 0.7366, val_f1: 0.5378\n"
     ]
    },
    {
     "name": "stderr",
     "output_type": "stream",
     "text": [
      "Training procedure:  91%|█████████ | 10/11 [07:35<00:45, 45.41s/it]"
     ]
    },
    {
     "name": "stdout",
     "output_type": "stream",
     "text": [
      "Epoch 10/11:\n",
      "Training Loss: 0.3962, Training Accuracy: 0.8553, train_f1: 0.7540\n",
      "Validation Loss: 0.8367, Validation Accuracy: 0.7386, val_f1: 0.5486\n"
     ]
    },
    {
     "name": "stderr",
     "output_type": "stream",
     "text": [
      "Training procedure: 100%|██████████| 11/11 [08:19<00:00, 45.39s/it]"
     ]
    },
    {
     "name": "stdout",
     "output_type": "stream",
     "text": [
      "Epoch 11/11:\n",
      "Training Loss: 0.3269, Training Accuracy: 0.8827, train_f1: 0.8038\n",
      "Validation Loss: 0.8419, Validation Accuracy: 0.7453, val_f1: 0.5535\n"
     ]
    },
    {
     "name": "stderr",
     "output_type": "stream",
     "text": [
      "\n"
     ]
    },
    {
     "name": "stdout",
     "output_type": "stream",
     "text": [
      "Test Accuracy: 0.7377\n",
      "Test F1: 0.5381\n",
      "Test Precision: 0.5616008722766883\n",
      "Test Recall: 0.5226641078168444\n",
      "Learning Rate: 0.0009476210031010523\n",
      "Optimizer: 1\n",
      "num_epoch: 10\n",
      "Weight Decay: 6.838478430964043e-05\n",
      "cuda:0\n"
     ]
    },
    {
     "name": "stderr",
     "output_type": "stream",
     "text": [
      "Training procedure:  10%|█         | 1/10 [00:43<06:32, 43.60s/it]"
     ]
    },
    {
     "name": "stdout",
     "output_type": "stream",
     "text": [
      "Epoch 1/10:\n",
      "Training Loss: 2.1803, Training Accuracy: 0.4427, train_f1: 0.2464\n",
      "Validation Loss: 1.5656, Validation Accuracy: 0.5688, val_f1: 0.3034\n"
     ]
    },
    {
     "name": "stderr",
     "output_type": "stream",
     "text": [
      "Training procedure:  20%|██        | 2/10 [01:28<05:54, 44.36s/it]"
     ]
    },
    {
     "name": "stdout",
     "output_type": "stream",
     "text": [
      "Epoch 2/10:\n",
      "Training Loss: 1.5125, Training Accuracy: 0.5819, train_f1: 0.3391\n",
      "Validation Loss: 1.3232, Validation Accuracy: 0.6171, val_f1: 0.3657\n"
     ]
    },
    {
     "name": "stderr",
     "output_type": "stream",
     "text": [
      "Training procedure:  30%|███       | 3/10 [02:12<05:08, 44.09s/it]"
     ]
    },
    {
     "name": "stdout",
     "output_type": "stream",
     "text": [
      "Epoch 3/10:\n",
      "Training Loss: 1.2248, Training Accuracy: 0.6360, train_f1: 0.4002\n",
      "Validation Loss: 1.2205, Validation Accuracy: 0.6419, val_f1: 0.3895\n"
     ]
    },
    {
     "name": "stderr",
     "output_type": "stream",
     "text": [
      "Training procedure:  40%|████      | 4/10 [02:58<04:28, 44.81s/it]"
     ]
    },
    {
     "name": "stdout",
     "output_type": "stream",
     "text": [
      "Epoch 4/10:\n",
      "Training Loss: 1.0540, Training Accuracy: 0.6746, train_f1: 0.4538\n",
      "Validation Loss: 1.1106, Validation Accuracy: 0.6647, val_f1: 0.4263\n"
     ]
    },
    {
     "name": "stderr",
     "output_type": "stream",
     "text": [
      "Training procedure:  50%|█████     | 5/10 [03:42<03:43, 44.77s/it]"
     ]
    },
    {
     "name": "stdout",
     "output_type": "stream",
     "text": [
      "Epoch 5/10:\n",
      "Training Loss: 0.9375, Training Accuracy: 0.7014, train_f1: 0.4966\n",
      "Validation Loss: 1.0887, Validation Accuracy: 0.6720, val_f1: 0.4348\n"
     ]
    },
    {
     "name": "stderr",
     "output_type": "stream",
     "text": [
      "Training procedure:  60%|██████    | 6/10 [04:28<02:59, 44.96s/it]"
     ]
    },
    {
     "name": "stdout",
     "output_type": "stream",
     "text": [
      "Epoch 6/10:\n",
      "Training Loss: 0.8299, Training Accuracy: 0.7213, train_f1: 0.5303\n",
      "Validation Loss: 1.0246, Validation Accuracy: 0.6870, val_f1: 0.4633\n"
     ]
    },
    {
     "name": "stderr",
     "output_type": "stream",
     "text": [
      "Training procedure:  70%|███████   | 7/10 [05:12<02:14, 44.90s/it]"
     ]
    },
    {
     "name": "stdout",
     "output_type": "stream",
     "text": [
      "Epoch 7/10:\n",
      "Training Loss: 0.7422, Training Accuracy: 0.7507, train_f1: 0.5745\n",
      "Validation Loss: 0.9961, Validation Accuracy: 0.6970, val_f1: 0.4668\n"
     ]
    },
    {
     "name": "stderr",
     "output_type": "stream",
     "text": [
      "Training procedure:  80%|████████  | 8/10 [05:58<01:30, 45.09s/it]"
     ]
    },
    {
     "name": "stdout",
     "output_type": "stream",
     "text": [
      "Epoch 8/10:\n",
      "Training Loss: 0.6878, Training Accuracy: 0.7638, train_f1: 0.5938\n",
      "Validation Loss: 0.9568, Validation Accuracy: 0.7012, val_f1: 0.4801\n"
     ]
    },
    {
     "name": "stderr",
     "output_type": "stream",
     "text": [
      "Training procedure:  90%|█████████ | 9/10 [06:42<00:44, 44.81s/it]"
     ]
    },
    {
     "name": "stdout",
     "output_type": "stream",
     "text": [
      "Epoch 9/10:\n",
      "Training Loss: 0.6200, Training Accuracy: 0.7802, train_f1: 0.6235\n",
      "Validation Loss: 0.9293, Validation Accuracy: 0.7113, val_f1: 0.4998\n"
     ]
    },
    {
     "name": "stderr",
     "output_type": "stream",
     "text": [
      "Training procedure: 100%|██████████| 10/10 [07:28<00:00, 44.87s/it]"
     ]
    },
    {
     "name": "stdout",
     "output_type": "stream",
     "text": [
      "Epoch 10/10:\n",
      "Training Loss: 0.5684, Training Accuracy: 0.7954, train_f1: 0.6475\n",
      "Validation Loss: 0.9413, Validation Accuracy: 0.7110, val_f1: 0.4988\n"
     ]
    },
    {
     "name": "stderr",
     "output_type": "stream",
     "text": [
      "\n"
     ]
    },
    {
     "name": "stdout",
     "output_type": "stream",
     "text": [
      "Test Accuracy: 0.7221\n",
      "Test F1: 0.5056\n",
      "Test Precision: 0.5337296630880685\n",
      "Test Recall: 0.48969600735557545\n",
      "Learning Rate: 1.3803746963532816e-06\n",
      "Optimizer: 1\n",
      "num_epoch: 11\n",
      "Weight Decay: 4.992453416923983e-06\n",
      "cuda:0\n"
     ]
    },
    {
     "name": "stderr",
     "output_type": "stream",
     "text": [
      "Training procedure:   9%|▉         | 1/11 [00:43<07:14, 43.42s/it]"
     ]
    },
    {
     "name": "stdout",
     "output_type": "stream",
     "text": [
      "Epoch 1/11:\n",
      "Training Loss: 3.8850, Training Accuracy: 0.1926, train_f1: 0.1637\n",
      "Validation Loss: 3.5618, Validation Accuracy: 0.1708, val_f1: 0.1337\n"
     ]
    },
    {
     "name": "stderr",
     "output_type": "stream",
     "text": [
      "Training procedure:  18%|█▊        | 2/11 [01:28<06:39, 44.34s/it]"
     ]
    },
    {
     "name": "stdout",
     "output_type": "stream",
     "text": [
      "Epoch 2/11:\n",
      "Training Loss: 3.8767, Training Accuracy: 0.1852, train_f1: 0.1532\n",
      "Validation Loss: 3.6401, Validation Accuracy: 0.1625, val_f1: 0.1293\n"
     ]
    },
    {
     "name": "stderr",
     "output_type": "stream",
     "text": [
      "Training procedure:  27%|██▋       | 3/11 [02:15<06:05, 45.70s/it]"
     ]
    },
    {
     "name": "stdout",
     "output_type": "stream",
     "text": [
      "Epoch 3/11:\n",
      "Training Loss: 3.8604, Training Accuracy: 0.1857, train_f1: 0.1570\n",
      "Validation Loss: 3.5710, Validation Accuracy: 0.1672, val_f1: 0.1319\n"
     ]
    },
    {
     "name": "stderr",
     "output_type": "stream",
     "text": [
      "Training procedure:  36%|███▋      | 4/11 [03:02<05:22, 46.01s/it]"
     ]
    },
    {
     "name": "stdout",
     "output_type": "stream",
     "text": [
      "Epoch 4/11:\n",
      "Training Loss: 3.8459, Training Accuracy: 0.1835, train_f1: 0.1535\n",
      "Validation Loss: 3.7028, Validation Accuracy: 0.1555, val_f1: 0.1251\n"
     ]
    },
    {
     "name": "stderr",
     "output_type": "stream",
     "text": [
      "Training procedure:  45%|████▌     | 5/11 [03:46<04:32, 45.40s/it]"
     ]
    },
    {
     "name": "stdout",
     "output_type": "stream",
     "text": [
      "Epoch 5/11:\n",
      "Training Loss: 3.8223, Training Accuracy: 0.1857, train_f1: 0.1556\n",
      "Validation Loss: 3.5905, Validation Accuracy: 0.1650, val_f1: 0.1334\n"
     ]
    },
    {
     "name": "stderr",
     "output_type": "stream",
     "text": [
      "Training procedure:  55%|█████▍    | 6/11 [04:31<03:46, 45.23s/it]"
     ]
    },
    {
     "name": "stdout",
     "output_type": "stream",
     "text": [
      "Epoch 6/11:\n",
      "Training Loss: 3.8180, Training Accuracy: 0.1845, train_f1: 0.1532\n",
      "Validation Loss: 3.5856, Validation Accuracy: 0.1683, val_f1: 0.1348\n"
     ]
    },
    {
     "name": "stderr",
     "output_type": "stream",
     "text": [
      "Training procedure:  64%|██████▎   | 7/11 [05:17<03:01, 45.36s/it]"
     ]
    },
    {
     "name": "stdout",
     "output_type": "stream",
     "text": [
      "Epoch 7/11:\n",
      "Training Loss: 3.8542, Training Accuracy: 0.1866, train_f1: 0.1560\n",
      "Validation Loss: 3.4842, Validation Accuracy: 0.1792, val_f1: 0.1402\n"
     ]
    },
    {
     "name": "stderr",
     "output_type": "stream",
     "text": [
      "Training procedure:  73%|███████▎  | 8/11 [06:01<02:15, 45.17s/it]"
     ]
    },
    {
     "name": "stdout",
     "output_type": "stream",
     "text": [
      "Epoch 8/11:\n",
      "Training Loss: 3.8523, Training Accuracy: 0.1853, train_f1: 0.1578\n",
      "Validation Loss: 3.5312, Validation Accuracy: 0.1734, val_f1: 0.1363\n"
     ]
    },
    {
     "name": "stderr",
     "output_type": "stream",
     "text": [
      "Training procedure:  82%|████████▏ | 9/11 [06:45<01:29, 44.74s/it]"
     ]
    },
    {
     "name": "stdout",
     "output_type": "stream",
     "text": [
      "Epoch 9/11:\n",
      "Training Loss: 3.8098, Training Accuracy: 0.1844, train_f1: 0.1527\n",
      "Validation Loss: 3.6548, Validation Accuracy: 0.1619, val_f1: 0.1288\n"
     ]
    },
    {
     "name": "stderr",
     "output_type": "stream",
     "text": [
      "Training procedure:  91%|█████████ | 10/11 [07:28<00:44, 44.28s/it]"
     ]
    },
    {
     "name": "stdout",
     "output_type": "stream",
     "text": [
      "Epoch 10/11:\n",
      "Training Loss: 3.8040, Training Accuracy: 0.1834, train_f1: 0.1544\n",
      "Validation Loss: 3.4197, Validation Accuracy: 0.1870, val_f1: 0.1426\n"
     ]
    },
    {
     "name": "stderr",
     "output_type": "stream",
     "text": [
      "Training procedure: 100%|██████████| 11/11 [08:15<00:00, 45.08s/it]"
     ]
    },
    {
     "name": "stdout",
     "output_type": "stream",
     "text": [
      "Epoch 11/11:\n",
      "Training Loss: 3.7971, Training Accuracy: 0.1881, train_f1: 0.1573\n",
      "Validation Loss: 3.5716, Validation Accuracy: 0.1647, val_f1: 0.1316\n"
     ]
    },
    {
     "name": "stderr",
     "output_type": "stream",
     "text": [
      "\n"
     ]
    },
    {
     "name": "stdout",
     "output_type": "stream",
     "text": [
      "Test Accuracy: 0.1773\n",
      "Test F1: 0.1505\n",
      "Test Precision: 0.2096463987621624\n",
      "Test Recall: 0.20459836442894316\n",
      "Learning Rate: 2.5135566617708295e-05\n",
      "Optimizer: 1\n",
      "num_epoch: 17\n",
      "Weight Decay: 0.00010988100318524612\n",
      "cuda:0\n"
     ]
    },
    {
     "name": "stderr",
     "output_type": "stream",
     "text": [
      "Training procedure:   6%|▌         | 1/17 [00:45<12:07, 45.49s/it]"
     ]
    },
    {
     "name": "stdout",
     "output_type": "stream",
     "text": [
      "Epoch 1/17:\n",
      "Training Loss: 4.1736, Training Accuracy: 0.1524, train_f1: 0.1489\n",
      "Validation Loss: 3.7386, Validation Accuracy: 0.1566, val_f1: 0.1561\n"
     ]
    },
    {
     "name": "stderr",
     "output_type": "stream",
     "text": [
      "Training procedure:  12%|█▏        | 2/17 [01:30<11:18, 45.21s/it]"
     ]
    },
    {
     "name": "stdout",
     "output_type": "stream",
     "text": [
      "Epoch 2/17:\n",
      "Training Loss: 3.9847, Training Accuracy: 0.1677, train_f1: 0.1590\n",
      "Validation Loss: 3.6465, Validation Accuracy: 0.1650, val_f1: 0.1587\n"
     ]
    },
    {
     "name": "stderr",
     "output_type": "stream",
     "text": [
      "Training procedure:  18%|█▊        | 3/17 [02:15<10:31, 45.08s/it]"
     ]
    },
    {
     "name": "stdout",
     "output_type": "stream",
     "text": [
      "Epoch 3/17:\n",
      "Training Loss: 3.7986, Training Accuracy: 0.1733, train_f1: 0.1633\n",
      "Validation Loss: 3.3998, Validation Accuracy: 0.1781, val_f1: 0.1668\n"
     ]
    },
    {
     "name": "stderr",
     "output_type": "stream",
     "text": [
      "Training procedure:  24%|██▎       | 4/17 [03:02<09:57, 45.99s/it]"
     ]
    },
    {
     "name": "stdout",
     "output_type": "stream",
     "text": [
      "Epoch 4/17:\n",
      "Training Loss: 3.6367, Training Accuracy: 0.1951, train_f1: 0.1750\n",
      "Validation Loss: 3.3064, Validation Accuracy: 0.1906, val_f1: 0.1758\n"
     ]
    },
    {
     "name": "stderr",
     "output_type": "stream",
     "text": [
      "Training procedure:  29%|██▉       | 5/17 [03:46<09:01, 45.12s/it]"
     ]
    },
    {
     "name": "stdout",
     "output_type": "stream",
     "text": [
      "Epoch 5/17:\n",
      "Training Loss: 3.5148, Training Accuracy: 0.2053, train_f1: 0.1805\n",
      "Validation Loss: 3.1887, Validation Accuracy: 0.1996, val_f1: 0.1764\n"
     ]
    },
    {
     "name": "stderr",
     "output_type": "stream",
     "text": [
      "Training procedure:  35%|███▌      | 6/17 [04:30<08:10, 44.61s/it]"
     ]
    },
    {
     "name": "stdout",
     "output_type": "stream",
     "text": [
      "Epoch 6/17:\n",
      "Training Loss: 3.3621, Training Accuracy: 0.2222, train_f1: 0.1886\n",
      "Validation Loss: 2.9639, Validation Accuracy: 0.2219, val_f1: 0.1883\n"
     ]
    },
    {
     "name": "stderr",
     "output_type": "stream",
     "text": [
      "Training procedure:  41%|████      | 7/17 [05:16<07:30, 45.09s/it]"
     ]
    },
    {
     "name": "stdout",
     "output_type": "stream",
     "text": [
      "Epoch 7/17:\n",
      "Training Loss: 3.2410, Training Accuracy: 0.2341, train_f1: 0.1941\n",
      "Validation Loss: 2.8995, Validation Accuracy: 0.2386, val_f1: 0.2006\n"
     ]
    },
    {
     "name": "stderr",
     "output_type": "stream",
     "text": [
      "Training procedure:  47%|████▋     | 8/17 [06:00<06:45, 45.01s/it]"
     ]
    },
    {
     "name": "stdout",
     "output_type": "stream",
     "text": [
      "Epoch 8/17:\n",
      "Training Loss: 3.0772, Training Accuracy: 0.2511, train_f1: 0.2017\n",
      "Validation Loss: 2.7591, Validation Accuracy: 0.2561, val_f1: 0.2070\n"
     ]
    },
    {
     "name": "stderr",
     "output_type": "stream",
     "text": [
      "Training procedure:  53%|█████▎    | 9/17 [06:50<06:11, 46.38s/it]"
     ]
    },
    {
     "name": "stdout",
     "output_type": "stream",
     "text": [
      "Epoch 9/17:\n",
      "Training Loss: 2.9747, Training Accuracy: 0.2670, train_f1: 0.2108\n",
      "Validation Loss: 2.6286, Validation Accuracy: 0.2768, val_f1: 0.2184\n"
     ]
    },
    {
     "name": "stderr",
     "output_type": "stream",
     "text": [
      "Training procedure:  59%|█████▉    | 10/17 [07:35<05:21, 45.98s/it]"
     ]
    },
    {
     "name": "stdout",
     "output_type": "stream",
     "text": [
      "Epoch 10/17:\n",
      "Training Loss: 2.8372, Training Accuracy: 0.2828, train_f1: 0.2149\n",
      "Validation Loss: 2.4665, Validation Accuracy: 0.2985, val_f1: 0.2258\n"
     ]
    },
    {
     "name": "stderr",
     "output_type": "stream",
     "text": [
      "Training procedure:  65%|██████▍   | 11/17 [08:19<04:32, 45.46s/it]"
     ]
    },
    {
     "name": "stdout",
     "output_type": "stream",
     "text": [
      "Epoch 11/17:\n",
      "Training Loss: 2.7361, Training Accuracy: 0.3011, train_f1: 0.2242\n",
      "Validation Loss: 2.4198, Validation Accuracy: 0.3225, val_f1: 0.2334\n"
     ]
    },
    {
     "name": "stderr",
     "output_type": "stream",
     "text": [
      "Training procedure:  71%|███████   | 12/17 [09:04<03:46, 45.29s/it]"
     ]
    },
    {
     "name": "stdout",
     "output_type": "stream",
     "text": [
      "Epoch 12/17:\n",
      "Training Loss: 2.6539, Training Accuracy: 0.3171, train_f1: 0.2348\n",
      "Validation Loss: 2.3345, Validation Accuracy: 0.3370, val_f1: 0.2456\n"
     ]
    },
    {
     "name": "stderr",
     "output_type": "stream",
     "text": [
      "Training procedure:  76%|███████▋  | 13/17 [09:50<03:01, 45.39s/it]"
     ]
    },
    {
     "name": "stdout",
     "output_type": "stream",
     "text": [
      "Epoch 13/17:\n",
      "Training Loss: 2.5554, Training Accuracy: 0.3326, train_f1: 0.2369\n",
      "Validation Loss: 2.2143, Validation Accuracy: 0.3623, val_f1: 0.2458\n"
     ]
    },
    {
     "name": "stderr",
     "output_type": "stream",
     "text": [
      "Training procedure:  82%|████████▏ | 14/17 [10:34<02:15, 45.04s/it]"
     ]
    },
    {
     "name": "stdout",
     "output_type": "stream",
     "text": [
      "Epoch 14/17:\n",
      "Training Loss: 2.4778, Training Accuracy: 0.3525, train_f1: 0.2434\n",
      "Validation Loss: 2.2389, Validation Accuracy: 0.3724, val_f1: 0.2518\n"
     ]
    },
    {
     "name": "stderr",
     "output_type": "stream",
     "text": [
      "Training procedure:  88%|████████▊ | 15/17 [11:21<01:31, 45.53s/it]"
     ]
    },
    {
     "name": "stdout",
     "output_type": "stream",
     "text": [
      "Epoch 15/17:\n",
      "Training Loss: 2.3836, Training Accuracy: 0.3681, train_f1: 0.2520\n",
      "Validation Loss: 2.0908, Validation Accuracy: 0.3902, val_f1: 0.2577\n"
     ]
    },
    {
     "name": "stderr",
     "output_type": "stream",
     "text": [
      "Training procedure:  94%|█████████▍| 16/17 [12:06<00:45, 45.43s/it]"
     ]
    },
    {
     "name": "stdout",
     "output_type": "stream",
     "text": [
      "Epoch 16/17:\n",
      "Training Loss: 2.3375, Training Accuracy: 0.3786, train_f1: 0.2553\n",
      "Validation Loss: 2.0298, Validation Accuracy: 0.4105, val_f1: 0.2629\n"
     ]
    },
    {
     "name": "stderr",
     "output_type": "stream",
     "text": [
      "Training procedure: 100%|██████████| 17/17 [12:52<00:00, 45.46s/it]"
     ]
    },
    {
     "name": "stdout",
     "output_type": "stream",
     "text": [
      "Epoch 17/17:\n",
      "Training Loss: 2.2494, Training Accuracy: 0.3994, train_f1: 0.2654\n",
      "Validation Loss: 1.9887, Validation Accuracy: 0.4370, val_f1: 0.2709\n"
     ]
    },
    {
     "name": "stderr",
     "output_type": "stream",
     "text": [
      "\n"
     ]
    },
    {
     "name": "stdout",
     "output_type": "stream",
     "text": [
      "Test Accuracy: 0.4334\n",
      "Test F1: 0.2757\n",
      "Test Precision: 0.28457508380586766\n",
      "Test Recall: 0.2950355260458804\n",
      "Learning Rate: 1.43301094556357e-05\n",
      "Optimizer: 0\n",
      "num_epoch: 14\n",
      "Weight Decay: 4.928122297695503e-06\n",
      "cuda:0\n"
     ]
    },
    {
     "name": "stderr",
     "output_type": "stream",
     "text": [
      "Training procedure:   7%|▋         | 1/14 [00:47<10:12, 47.15s/it]"
     ]
    },
    {
     "name": "stdout",
     "output_type": "stream",
     "text": [
      "Epoch 1/14:\n",
      "Training Loss: 2.1954, Training Accuracy: 0.4525, train_f1: 0.2734\n",
      "Validation Loss: 1.2735, Validation Accuracy: 0.6355, val_f1: 0.3507\n"
     ]
    },
    {
     "name": "stderr",
     "output_type": "stream",
     "text": [
      "Training procedure:  14%|█▍        | 2/14 [01:32<09:15, 46.30s/it]"
     ]
    },
    {
     "name": "stdout",
     "output_type": "stream",
     "text": [
      "Epoch 2/14:\n",
      "Training Loss: 1.1630, Training Accuracy: 0.6495, train_f1: 0.4173\n",
      "Validation Loss: 1.0769, Validation Accuracy: 0.6742, val_f1: 0.4184\n"
     ]
    },
    {
     "name": "stderr",
     "output_type": "stream",
     "text": [
      "Training procedure:  21%|██▏       | 3/14 [02:17<08:23, 45.74s/it]"
     ]
    },
    {
     "name": "stdout",
     "output_type": "stream",
     "text": [
      "Epoch 3/14:\n",
      "Training Loss: 0.9029, Training Accuracy: 0.7023, train_f1: 0.4960\n",
      "Validation Loss: 0.9690, Validation Accuracy: 0.6954, val_f1: 0.4556\n"
     ]
    },
    {
     "name": "stderr",
     "output_type": "stream",
     "text": [
      "Training procedure:  29%|██▊       | 4/14 [03:02<07:33, 45.33s/it]"
     ]
    },
    {
     "name": "stdout",
     "output_type": "stream",
     "text": [
      "Epoch 4/14:\n",
      "Training Loss: 0.7190, Training Accuracy: 0.7556, train_f1: 0.5902\n",
      "Validation Loss: 0.9025, Validation Accuracy: 0.7127, val_f1: 0.4848\n"
     ]
    },
    {
     "name": "stderr",
     "output_type": "stream",
     "text": [
      "Training procedure:  36%|███▌      | 5/14 [03:47<06:46, 45.14s/it]"
     ]
    },
    {
     "name": "stdout",
     "output_type": "stream",
     "text": [
      "Epoch 5/14:\n",
      "Training Loss: 0.5980, Training Accuracy: 0.7854, train_f1: 0.6370\n",
      "Validation Loss: 0.8520, Validation Accuracy: 0.7255, val_f1: 0.5091\n"
     ]
    },
    {
     "name": "stderr",
     "output_type": "stream",
     "text": [
      "Training procedure:  43%|████▎     | 6/14 [04:32<06:00, 45.00s/it]"
     ]
    },
    {
     "name": "stdout",
     "output_type": "stream",
     "text": [
      "Epoch 6/14:\n",
      "Training Loss: 0.5004, Training Accuracy: 0.8215, train_f1: 0.6962\n",
      "Validation Loss: 0.8296, Validation Accuracy: 0.7285, val_f1: 0.5368\n"
     ]
    },
    {
     "name": "stderr",
     "output_type": "stream",
     "text": [
      "Training procedure:  50%|█████     | 7/14 [05:16<05:13, 44.79s/it]"
     ]
    },
    {
     "name": "stdout",
     "output_type": "stream",
     "text": [
      "Epoch 7/14:\n",
      "Training Loss: 0.4079, Training Accuracy: 0.8503, train_f1: 0.7485\n",
      "Validation Loss: 0.8203, Validation Accuracy: 0.7377, val_f1: 0.5363\n"
     ]
    },
    {
     "name": "stderr",
     "output_type": "stream",
     "text": [
      "Training procedure:  57%|█████▋    | 8/14 [06:01<04:28, 44.77s/it]"
     ]
    },
    {
     "name": "stdout",
     "output_type": "stream",
     "text": [
      "Epoch 8/14:\n",
      "Training Loss: 0.3399, Training Accuracy: 0.8770, train_f1: 0.7897\n",
      "Validation Loss: 0.8096, Validation Accuracy: 0.7363, val_f1: 0.5345\n"
     ]
    },
    {
     "name": "stderr",
     "output_type": "stream",
     "text": [
      "Training procedure:  64%|██████▍   | 9/14 [06:46<03:44, 44.91s/it]"
     ]
    },
    {
     "name": "stdout",
     "output_type": "stream",
     "text": [
      "Epoch 9/14:\n",
      "Training Loss: 0.2819, Training Accuracy: 0.9032, train_f1: 0.8363\n",
      "Validation Loss: 0.8485, Validation Accuracy: 0.7453, val_f1: 0.5476\n"
     ]
    },
    {
     "name": "stderr",
     "output_type": "stream",
     "text": [
      "Training procedure:  71%|███████▏  | 10/14 [07:29<02:57, 44.41s/it]"
     ]
    },
    {
     "name": "stdout",
     "output_type": "stream",
     "text": [
      "Epoch 10/14:\n",
      "Training Loss: 0.2282, Training Accuracy: 0.9195, train_f1: 0.8647\n",
      "Validation Loss: 0.8387, Validation Accuracy: 0.7467, val_f1: 0.5550\n"
     ]
    },
    {
     "name": "stderr",
     "output_type": "stream",
     "text": [
      "Training procedure:  79%|███████▊  | 11/14 [08:14<02:13, 44.55s/it]"
     ]
    },
    {
     "name": "stdout",
     "output_type": "stream",
     "text": [
      "Epoch 11/14:\n",
      "Training Loss: 0.1914, Training Accuracy: 0.9408, train_f1: 0.8976\n",
      "Validation Loss: 0.8526, Validation Accuracy: 0.7500, val_f1: 0.5639\n"
     ]
    },
    {
     "name": "stderr",
     "output_type": "stream",
     "text": [
      "Training procedure:  86%|████████▌ | 12/14 [09:01<01:30, 45.15s/it]"
     ]
    },
    {
     "name": "stdout",
     "output_type": "stream",
     "text": [
      "Epoch 12/14:\n",
      "Training Loss: 0.1599, Training Accuracy: 0.9526, train_f1: 0.9219\n",
      "Validation Loss: 0.8438, Validation Accuracy: 0.7461, val_f1: 0.5559\n"
     ]
    },
    {
     "name": "stderr",
     "output_type": "stream",
     "text": [
      "Training procedure:  93%|█████████▎| 13/14 [09:48<00:45, 45.89s/it]"
     ]
    },
    {
     "name": "stdout",
     "output_type": "stream",
     "text": [
      "Epoch 13/14:\n",
      "Training Loss: 0.1295, Training Accuracy: 0.9595, train_f1: 0.9316\n",
      "Validation Loss: 0.8401, Validation Accuracy: 0.7508, val_f1: 0.5609\n"
     ]
    },
    {
     "name": "stderr",
     "output_type": "stream",
     "text": [
      "Training procedure: 100%|██████████| 14/14 [10:32<00:00, 45.17s/it]"
     ]
    },
    {
     "name": "stdout",
     "output_type": "stream",
     "text": [
      "Epoch 14/14:\n",
      "Training Loss: 0.1044, Training Accuracy: 0.9710, train_f1: 0.9501\n",
      "Validation Loss: 0.8601, Validation Accuracy: 0.7506, val_f1: 0.5692\n"
     ]
    },
    {
     "name": "stderr",
     "output_type": "stream",
     "text": [
      "\n"
     ]
    },
    {
     "name": "stdout",
     "output_type": "stream",
     "text": [
      "Test Accuracy: 0.7500\n",
      "Test F1: 0.5731\n",
      "Test Precision: 0.5830957720969281\n",
      "Test Recall: 0.5663561832917743\n",
      "Learning Rate: 3.3120277014659437e-06\n",
      "Optimizer: 0\n",
      "num_epoch: 21\n",
      "Weight Decay: 3.521342459487091e-06\n",
      "cuda:0\n"
     ]
    },
    {
     "name": "stderr",
     "output_type": "stream",
     "text": [
      "Training procedure:   5%|▍         | 1/21 [00:46<15:38, 46.91s/it]"
     ]
    },
    {
     "name": "stdout",
     "output_type": "stream",
     "text": [
      "Epoch 1/21:\n",
      "Training Loss: 3.3926, Training Accuracy: 0.2079, train_f1: 0.1824\n",
      "Validation Loss: 2.4436, Validation Accuracy: 0.2871, val_f1: 0.2221\n"
     ]
    },
    {
     "name": "stderr",
     "output_type": "stream",
     "text": [
      "Training procedure:  10%|▉         | 2/21 [01:31<14:26, 45.61s/it]"
     ]
    },
    {
     "name": "stdout",
     "output_type": "stream",
     "text": [
      "Epoch 2/21:\n",
      "Training Loss: 2.1263, Training Accuracy: 0.3993, train_f1: 0.2623\n",
      "Validation Loss: 1.6608, Validation Accuracy: 0.5084, val_f1: 0.2898\n"
     ]
    },
    {
     "name": "stderr",
     "output_type": "stream",
     "text": [
      "Training procedure:  14%|█▍        | 3/21 [02:18<13:49, 46.11s/it]"
     ]
    },
    {
     "name": "stdout",
     "output_type": "stream",
     "text": [
      "Epoch 3/21:\n",
      "Training Loss: 1.6379, Training Accuracy: 0.5408, train_f1: 0.3073\n",
      "Validation Loss: 1.4153, Validation Accuracy: 0.5861, val_f1: 0.3167\n"
     ]
    },
    {
     "name": "stderr",
     "output_type": "stream",
     "text": [
      "Training procedure:  19%|█▉        | 4/21 [03:05<13:12, 46.61s/it]"
     ]
    },
    {
     "name": "stdout",
     "output_type": "stream",
     "text": [
      "Epoch 4/21:\n",
      "Training Loss: 1.4450, Training Accuracy: 0.5924, train_f1: 0.3455\n",
      "Validation Loss: 1.3035, Validation Accuracy: 0.6190, val_f1: 0.3449\n"
     ]
    },
    {
     "name": "stderr",
     "output_type": "stream",
     "text": [
      "Training procedure:  24%|██▍       | 5/21 [03:50<12:15, 45.97s/it]"
     ]
    },
    {
     "name": "stdout",
     "output_type": "stream",
     "text": [
      "Epoch 5/21:\n",
      "Training Loss: 1.3225, Training Accuracy: 0.6163, train_f1: 0.3714\n",
      "Validation Loss: 1.2435, Validation Accuracy: 0.6315, val_f1: 0.3714\n"
     ]
    },
    {
     "name": "stderr",
     "output_type": "stream",
     "text": [
      "Training procedure:  29%|██▊       | 6/21 [04:38<11:38, 46.55s/it]"
     ]
    },
    {
     "name": "stdout",
     "output_type": "stream",
     "text": [
      "Epoch 6/21:\n",
      "Training Loss: 1.2249, Training Accuracy: 0.6369, train_f1: 0.3991\n",
      "Validation Loss: 1.1964, Validation Accuracy: 0.6463, val_f1: 0.3721\n"
     ]
    },
    {
     "name": "stderr",
     "output_type": "stream",
     "text": [
      "Training procedure:  33%|███▎      | 7/21 [05:25<10:54, 46.74s/it]"
     ]
    },
    {
     "name": "stdout",
     "output_type": "stream",
     "text": [
      "Epoch 7/21:\n",
      "Training Loss: 1.1428, Training Accuracy: 0.6542, train_f1: 0.4279\n",
      "Validation Loss: 1.1637, Validation Accuracy: 0.6550, val_f1: 0.3998\n"
     ]
    },
    {
     "name": "stderr",
     "output_type": "stream",
     "text": [
      "Training procedure:  38%|███▊      | 8/21 [06:09<09:57, 45.93s/it]"
     ]
    },
    {
     "name": "stdout",
     "output_type": "stream",
     "text": [
      "Epoch 8/21:\n",
      "Training Loss: 1.0624, Training Accuracy: 0.6708, train_f1: 0.4510\n",
      "Validation Loss: 1.0952, Validation Accuracy: 0.6619, val_f1: 0.4121\n"
     ]
    },
    {
     "name": "stderr",
     "output_type": "stream",
     "text": [
      "Training procedure:  43%|████▎     | 9/21 [06:56<09:14, 46.23s/it]"
     ]
    },
    {
     "name": "stdout",
     "output_type": "stream",
     "text": [
      "Epoch 9/21:\n",
      "Training Loss: 0.9892, Training Accuracy: 0.6870, train_f1: 0.4793\n",
      "Validation Loss: 1.0642, Validation Accuracy: 0.6686, val_f1: 0.4251\n"
     ]
    },
    {
     "name": "stderr",
     "output_type": "stream",
     "text": [
      "Training procedure:  48%|████▊     | 10/21 [07:41<08:25, 45.97s/it]"
     ]
    },
    {
     "name": "stdout",
     "output_type": "stream",
     "text": [
      "Epoch 10/21:\n",
      "Training Loss: 0.9267, Training Accuracy: 0.7028, train_f1: 0.5000\n",
      "Validation Loss: 1.0931, Validation Accuracy: 0.6773, val_f1: 0.4355\n"
     ]
    },
    {
     "name": "stderr",
     "output_type": "stream",
     "text": [
      "Training procedure:  52%|█████▏    | 11/21 [08:26<07:35, 45.58s/it]"
     ]
    },
    {
     "name": "stdout",
     "output_type": "stream",
     "text": [
      "Epoch 11/21:\n",
      "Training Loss: 0.8629, Training Accuracy: 0.7134, train_f1: 0.5195\n",
      "Validation Loss: 1.0157, Validation Accuracy: 0.6800, val_f1: 0.4475\n"
     ]
    },
    {
     "name": "stderr",
     "output_type": "stream",
     "text": [
      "Training procedure:  57%|█████▋    | 12/21 [09:13<06:52, 45.87s/it]"
     ]
    },
    {
     "name": "stdout",
     "output_type": "stream",
     "text": [
      "Epoch 12/21:\n",
      "Training Loss: 0.8290, Training Accuracy: 0.7216, train_f1: 0.5330\n",
      "Validation Loss: 0.9811, Validation Accuracy: 0.6892, val_f1: 0.4562\n"
     ]
    },
    {
     "name": "stderr",
     "output_type": "stream",
     "text": [
      "Training procedure:  62%|██████▏   | 13/21 [09:59<06:07, 45.94s/it]"
     ]
    },
    {
     "name": "stdout",
     "output_type": "stream",
     "text": [
      "Epoch 13/21:\n",
      "Training Loss: 0.7878, Training Accuracy: 0.7355, train_f1: 0.5490\n",
      "Validation Loss: 0.9458, Validation Accuracy: 0.6923, val_f1: 0.4675\n"
     ]
    },
    {
     "name": "stderr",
     "output_type": "stream",
     "text": [
      "Training procedure:  67%|██████▋   | 14/21 [10:44<05:20, 45.73s/it]"
     ]
    },
    {
     "name": "stdout",
     "output_type": "stream",
     "text": [
      "Epoch 14/21:\n",
      "Training Loss: 0.7480, Training Accuracy: 0.7477, train_f1: 0.5697\n",
      "Validation Loss: 0.9796, Validation Accuracy: 0.6982, val_f1: 0.4829\n"
     ]
    },
    {
     "name": "stderr",
     "output_type": "stream",
     "text": [
      "Training procedure:  71%|███████▏  | 15/21 [11:29<04:32, 45.43s/it]"
     ]
    },
    {
     "name": "stdout",
     "output_type": "stream",
     "text": [
      "Epoch 15/21:\n",
      "Training Loss: 0.7057, Training Accuracy: 0.7573, train_f1: 0.5927\n",
      "Validation Loss: 0.9210, Validation Accuracy: 0.7029, val_f1: 0.4823\n"
     ]
    },
    {
     "name": "stderr",
     "output_type": "stream",
     "text": [
      "Training procedure:  76%|███████▌  | 16/21 [12:15<03:48, 45.63s/it]"
     ]
    },
    {
     "name": "stdout",
     "output_type": "stream",
     "text": [
      "Epoch 16/21:\n",
      "Training Loss: 0.6565, Training Accuracy: 0.7664, train_f1: 0.6047\n",
      "Validation Loss: 0.9164, Validation Accuracy: 0.7076, val_f1: 0.4887\n"
     ]
    },
    {
     "name": "stderr",
     "output_type": "stream",
     "text": [
      "Training procedure:  81%|████████  | 17/21 [13:00<03:02, 45.62s/it]"
     ]
    },
    {
     "name": "stdout",
     "output_type": "stream",
     "text": [
      "Epoch 17/21:\n",
      "Training Loss: 0.6381, Training Accuracy: 0.7766, train_f1: 0.6205\n",
      "Validation Loss: 0.9016, Validation Accuracy: 0.7099, val_f1: 0.4872\n"
     ]
    },
    {
     "name": "stderr",
     "output_type": "stream",
     "text": [
      "Training procedure:  86%|████████▌ | 18/21 [13:46<02:17, 45.73s/it]"
     ]
    },
    {
     "name": "stdout",
     "output_type": "stream",
     "text": [
      "Epoch 18/21:\n",
      "Training Loss: 0.6073, Training Accuracy: 0.7857, train_f1: 0.6395\n",
      "Validation Loss: 0.8862, Validation Accuracy: 0.7135, val_f1: 0.5018\n"
     ]
    },
    {
     "name": "stderr",
     "output_type": "stream",
     "text": [
      "Training procedure:  90%|█████████ | 19/21 [14:30<01:30, 45.25s/it]"
     ]
    },
    {
     "name": "stdout",
     "output_type": "stream",
     "text": [
      "Epoch 19/21:\n",
      "Training Loss: 0.5680, Training Accuracy: 0.7929, train_f1: 0.6452\n",
      "Validation Loss: 0.8736, Validation Accuracy: 0.7177, val_f1: 0.5091\n"
     ]
    },
    {
     "name": "stderr",
     "output_type": "stream",
     "text": [
      "Training procedure:  95%|█████████▌| 20/21 [15:16<00:45, 45.41s/it]"
     ]
    },
    {
     "name": "stdout",
     "output_type": "stream",
     "text": [
      "Epoch 20/21:\n",
      "Training Loss: 0.5367, Training Accuracy: 0.8092, train_f1: 0.6716\n",
      "Validation Loss: 0.8895, Validation Accuracy: 0.7193, val_f1: 0.5066\n"
     ]
    },
    {
     "name": "stderr",
     "output_type": "stream",
     "text": [
      "Training procedure: 100%|██████████| 21/21 [16:02<00:00, 45.84s/it]"
     ]
    },
    {
     "name": "stdout",
     "output_type": "stream",
     "text": [
      "Epoch 21/21:\n",
      "Training Loss: 0.5115, Training Accuracy: 0.8216, train_f1: 0.6975\n",
      "Validation Loss: 0.8652, Validation Accuracy: 0.7244, val_f1: 0.5172\n"
     ]
    },
    {
     "name": "stderr",
     "output_type": "stream",
     "text": [
      "\n"
     ]
    },
    {
     "name": "stdout",
     "output_type": "stream",
     "text": [
      "Test Accuracy: 0.7246\n",
      "Test F1: 0.5173\n",
      "Test Precision: 0.5412718498461117\n",
      "Test Recall: 0.5012736211512587\n",
      "Learning Rate: 1.2414804282743955e-06\n",
      "Optimizer: 1\n",
      "num_epoch: 16\n",
      "Weight Decay: 2.2349221517675516e-05\n",
      "cuda:0\n"
     ]
    },
    {
     "name": "stderr",
     "output_type": "stream",
     "text": [
      "Training procedure:   6%|▋         | 1/16 [00:47<11:56, 47.78s/it]"
     ]
    },
    {
     "name": "stdout",
     "output_type": "stream",
     "text": [
      "Epoch 1/16:\n",
      "Training Loss: 3.5727, Training Accuracy: 0.2230, train_f1: 0.1638\n",
      "Validation Loss: 3.2548, Validation Accuracy: 0.2252, val_f1: 0.1675\n"
     ]
    },
    {
     "name": "stderr",
     "output_type": "stream",
     "text": [
      "Training procedure:  12%|█▎        | 2/16 [01:35<11:04, 47.49s/it]"
     ]
    },
    {
     "name": "stdout",
     "output_type": "stream",
     "text": [
      "Epoch 2/16:\n",
      "Training Loss: 3.5604, Training Accuracy: 0.2232, train_f1: 0.1664\n",
      "Validation Loss: 3.2699, Validation Accuracy: 0.2213, val_f1: 0.1639\n"
     ]
    },
    {
     "name": "stderr",
     "output_type": "stream",
     "text": [
      "Training procedure:  19%|█▉        | 3/16 [02:24<10:27, 48.23s/it]"
     ]
    },
    {
     "name": "stdout",
     "output_type": "stream",
     "text": [
      "Epoch 3/16:\n",
      "Training Loss: 3.5166, Training Accuracy: 0.2290, train_f1: 0.1725\n",
      "Validation Loss: 3.0954, Validation Accuracy: 0.2472, val_f1: 0.1745\n"
     ]
    },
    {
     "name": "stderr",
     "output_type": "stream",
     "text": [
      "Training procedure:  25%|██▌       | 4/16 [03:11<09:33, 47.78s/it]"
     ]
    },
    {
     "name": "stdout",
     "output_type": "stream",
     "text": [
      "Epoch 4/16:\n",
      "Training Loss: 3.5317, Training Accuracy: 0.2242, train_f1: 0.1669\n",
      "Validation Loss: 3.1471, Validation Accuracy: 0.2386, val_f1: 0.1738\n"
     ]
    },
    {
     "name": "stderr",
     "output_type": "stream",
     "text": [
      "Training procedure:  31%|███▏      | 5/16 [04:00<08:52, 48.43s/it]"
     ]
    },
    {
     "name": "stdout",
     "output_type": "stream",
     "text": [
      "Epoch 5/16:\n",
      "Training Loss: 3.5148, Training Accuracy: 0.2250, train_f1: 0.1661\n",
      "Validation Loss: 3.2161, Validation Accuracy: 0.2241, val_f1: 0.1650\n"
     ]
    },
    {
     "name": "stderr",
     "output_type": "stream",
     "text": [
      "Training procedure:  38%|███▊      | 6/16 [04:47<07:57, 47.71s/it]"
     ]
    },
    {
     "name": "stdout",
     "output_type": "stream",
     "text": [
      "Epoch 6/16:\n",
      "Training Loss: 3.5326, Training Accuracy: 0.2218, train_f1: 0.1641\n",
      "Validation Loss: 3.0681, Validation Accuracy: 0.2402, val_f1: 0.1715\n"
     ]
    },
    {
     "name": "stderr",
     "output_type": "stream",
     "text": [
      "Training procedure:  44%|████▍     | 7/16 [05:33<07:05, 47.28s/it]"
     ]
    },
    {
     "name": "stdout",
     "output_type": "stream",
     "text": [
      "Epoch 7/16:\n",
      "Training Loss: 3.5264, Training Accuracy: 0.2295, train_f1: 0.1683\n",
      "Validation Loss: 3.0091, Validation Accuracy: 0.2492, val_f1: 0.1764\n"
     ]
    },
    {
     "name": "stderr",
     "output_type": "stream",
     "text": [
      "Training procedure:  50%|█████     | 8/16 [06:18<06:12, 46.62s/it]"
     ]
    },
    {
     "name": "stdout",
     "output_type": "stream",
     "text": [
      "Epoch 8/16:\n",
      "Training Loss: 3.5159, Training Accuracy: 0.2294, train_f1: 0.1696\n",
      "Validation Loss: 3.1018, Validation Accuracy: 0.2308, val_f1: 0.1675\n"
     ]
    },
    {
     "name": "stderr",
     "output_type": "stream",
     "text": [
      "Training procedure:  56%|█████▋    | 9/16 [07:05<05:27, 46.77s/it]"
     ]
    },
    {
     "name": "stdout",
     "output_type": "stream",
     "text": [
      "Epoch 9/16:\n",
      "Training Loss: 3.4961, Training Accuracy: 0.2294, train_f1: 0.1641\n",
      "Validation Loss: 3.1819, Validation Accuracy: 0.2227, val_f1: 0.1644\n"
     ]
    },
    {
     "name": "stderr",
     "output_type": "stream",
     "text": [
      "Training procedure:  62%|██████▎   | 10/16 [07:55<04:46, 47.71s/it]"
     ]
    },
    {
     "name": "stdout",
     "output_type": "stream",
     "text": [
      "Epoch 10/16:\n",
      "Training Loss: 3.5230, Training Accuracy: 0.2269, train_f1: 0.1662\n",
      "Validation Loss: 3.0840, Validation Accuracy: 0.2455, val_f1: 0.1762\n"
     ]
    },
    {
     "name": "stderr",
     "output_type": "stream",
     "text": [
      "Training procedure:  69%|██████▉   | 11/16 [08:44<04:00, 48.19s/it]"
     ]
    },
    {
     "name": "stdout",
     "output_type": "stream",
     "text": [
      "Epoch 11/16:\n",
      "Training Loss: 3.4990, Training Accuracy: 0.2271, train_f1: 0.1691\n",
      "Validation Loss: 3.0526, Validation Accuracy: 0.2500, val_f1: 0.1766\n"
     ]
    },
    {
     "name": "stderr",
     "output_type": "stream",
     "text": [
      "Training procedure:  75%|███████▌  | 12/16 [09:35<03:15, 48.81s/it]"
     ]
    },
    {
     "name": "stdout",
     "output_type": "stream",
     "text": [
      "Epoch 12/16:\n",
      "Training Loss: 3.4713, Training Accuracy: 0.2307, train_f1: 0.1678\n",
      "Validation Loss: 3.1171, Validation Accuracy: 0.2366, val_f1: 0.1724\n"
     ]
    },
    {
     "name": "stderr",
     "output_type": "stream",
     "text": [
      "Training procedure:  81%|████████▏ | 13/16 [10:23<02:26, 48.80s/it]"
     ]
    },
    {
     "name": "stdout",
     "output_type": "stream",
     "text": [
      "Epoch 13/16:\n",
      "Training Loss: 3.4766, Training Accuracy: 0.2278, train_f1: 0.1673\n",
      "Validation Loss: 3.1490, Validation Accuracy: 0.2196, val_f1: 0.1638\n"
     ]
    },
    {
     "name": "stderr",
     "output_type": "stream",
     "text": [
      "Training procedure:  88%|████████▊ | 14/16 [11:10<01:36, 48.16s/it]"
     ]
    },
    {
     "name": "stdout",
     "output_type": "stream",
     "text": [
      "Epoch 14/16:\n",
      "Training Loss: 3.4711, Training Accuracy: 0.2358, train_f1: 0.1740\n",
      "Validation Loss: 3.0705, Validation Accuracy: 0.2305, val_f1: 0.1702\n"
     ]
    },
    {
     "name": "stderr",
     "output_type": "stream",
     "text": [
      "Training procedure:  94%|█████████▍| 15/16 [11:59<00:48, 48.40s/it]"
     ]
    },
    {
     "name": "stdout",
     "output_type": "stream",
     "text": [
      "Epoch 15/16:\n",
      "Training Loss: 3.4705, Training Accuracy: 0.2334, train_f1: 0.1687\n",
      "Validation Loss: 3.1364, Validation Accuracy: 0.2363, val_f1: 0.1713\n"
     ]
    },
    {
     "name": "stderr",
     "output_type": "stream",
     "text": [
      "Training procedure: 100%|██████████| 16/16 [12:46<00:00, 47.94s/it]"
     ]
    },
    {
     "name": "stdout",
     "output_type": "stream",
     "text": [
      "Epoch 16/16:\n",
      "Training Loss: 3.4445, Training Accuracy: 0.2339, train_f1: 0.1734\n",
      "Validation Loss: 3.0591, Validation Accuracy: 0.2469, val_f1: 0.1797\n"
     ]
    },
    {
     "name": "stderr",
     "output_type": "stream",
     "text": [
      "\n"
     ]
    },
    {
     "name": "stdout",
     "output_type": "stream",
     "text": [
      "Test Accuracy: 0.2480\n",
      "Test F1: 0.1751\n",
      "Test Precision: 0.2436303986690882\n",
      "Test Recall: 0.23544378861813034\n",
      "Learning Rate: 5.144366757810547e-05\n",
      "Optimizer: 1\n",
      "num_epoch: 23\n",
      "Weight Decay: 0.0007647439907543514\n",
      "cuda:0\n"
     ]
    },
    {
     "name": "stderr",
     "output_type": "stream",
     "text": [
      "Training procedure:   4%|▍         | 1/23 [00:48<17:40, 48.20s/it]"
     ]
    },
    {
     "name": "stdout",
     "output_type": "stream",
     "text": [
      "Epoch 1/23:\n",
      "Training Loss: 3.1286, Training Accuracy: 0.2499, train_f1: 0.1681\n",
      "Validation Loss: 2.7754, Validation Accuracy: 0.2703, val_f1: 0.1714\n"
     ]
    },
    {
     "name": "stderr",
     "output_type": "stream",
     "text": [
      "Training procedure:   9%|▊         | 2/23 [01:35<16:40, 47.66s/it]"
     ]
    },
    {
     "name": "stdout",
     "output_type": "stream",
     "text": [
      "Epoch 2/23:\n",
      "Training Loss: 2.9175, Training Accuracy: 0.2847, train_f1: 0.1844\n",
      "Validation Loss: 2.4676, Validation Accuracy: 0.3144, val_f1: 0.1891\n"
     ]
    },
    {
     "name": "stderr",
     "output_type": "stream",
     "text": [
      "Training procedure:  13%|█▎        | 3/23 [02:22<15:43, 47.19s/it]"
     ]
    },
    {
     "name": "stdout",
     "output_type": "stream",
     "text": [
      "Epoch 3/23:\n",
      "Training Loss: 2.7279, Training Accuracy: 0.3104, train_f1: 0.1971\n",
      "Validation Loss: 2.3181, Validation Accuracy: 0.3459, val_f1: 0.2023\n"
     ]
    },
    {
     "name": "stderr",
     "output_type": "stream",
     "text": [
      "Training procedure:  17%|█▋        | 4/23 [03:09<15:00, 47.42s/it]"
     ]
    },
    {
     "name": "stdout",
     "output_type": "stream",
     "text": [
      "Epoch 4/23:\n",
      "Training Loss: 2.5639, Training Accuracy: 0.3429, train_f1: 0.2104\n",
      "Validation Loss: 2.2118, Validation Accuracy: 0.3765, val_f1: 0.2092\n"
     ]
    },
    {
     "name": "stderr",
     "output_type": "stream",
     "text": [
      "Training procedure:  22%|██▏       | 5/23 [03:58<14:21, 47.85s/it]"
     ]
    },
    {
     "name": "stdout",
     "output_type": "stream",
     "text": [
      "Epoch 5/23:\n",
      "Training Loss: 2.4203, Training Accuracy: 0.3707, train_f1: 0.2227\n",
      "Validation Loss: 2.0869, Validation Accuracy: 0.4195, val_f1: 0.2315\n"
     ]
    },
    {
     "name": "stderr",
     "output_type": "stream",
     "text": [
      "Training procedure:  26%|██▌       | 6/23 [04:47<13:40, 48.27s/it]"
     ]
    },
    {
     "name": "stdout",
     "output_type": "stream",
     "text": [
      "Epoch 6/23:\n",
      "Training Loss: 2.3260, Training Accuracy: 0.3906, train_f1: 0.2322\n",
      "Validation Loss: 1.9812, Validation Accuracy: 0.4406, val_f1: 0.2419\n"
     ]
    },
    {
     "name": "stderr",
     "output_type": "stream",
     "text": [
      "Training procedure:  30%|███       | 7/23 [05:36<12:56, 48.51s/it]"
     ]
    },
    {
     "name": "stdout",
     "output_type": "stream",
     "text": [
      "Epoch 7/23:\n",
      "Training Loss: 2.2429, Training Accuracy: 0.4088, train_f1: 0.2430\n",
      "Validation Loss: 1.9641, Validation Accuracy: 0.4490, val_f1: 0.2428\n"
     ]
    },
    {
     "name": "stderr",
     "output_type": "stream",
     "text": [
      "Training procedure:  35%|███▍      | 8/23 [06:24<12:05, 48.35s/it]"
     ]
    },
    {
     "name": "stdout",
     "output_type": "stream",
     "text": [
      "Epoch 8/23:\n",
      "Training Loss: 2.1250, Training Accuracy: 0.4328, train_f1: 0.2504\n",
      "Validation Loss: 1.8745, Validation Accuracy: 0.4758, val_f1: 0.2526\n"
     ]
    },
    {
     "name": "stderr",
     "output_type": "stream",
     "text": [
      "Training procedure:  39%|███▉      | 9/23 [07:14<11:24, 48.89s/it]"
     ]
    },
    {
     "name": "stdout",
     "output_type": "stream",
     "text": [
      "Epoch 9/23:\n",
      "Training Loss: 2.0343, Training Accuracy: 0.4551, train_f1: 0.2621\n",
      "Validation Loss: 1.8194, Validation Accuracy: 0.4922, val_f1: 0.2589\n"
     ]
    },
    {
     "name": "stderr",
     "output_type": "stream",
     "text": [
      "Training procedure:  43%|████▎     | 10/23 [07:59<10:19, 47.63s/it]"
     ]
    },
    {
     "name": "stdout",
     "output_type": "stream",
     "text": [
      "Epoch 10/23:\n",
      "Training Loss: 1.9819, Training Accuracy: 0.4659, train_f1: 0.2675\n",
      "Validation Loss: 1.7333, Validation Accuracy: 0.5078, val_f1: 0.2679\n"
     ]
    },
    {
     "name": "stderr",
     "output_type": "stream",
     "text": [
      "Training procedure:  48%|████▊     | 11/23 [08:44<09:23, 46.95s/it]"
     ]
    },
    {
     "name": "stdout",
     "output_type": "stream",
     "text": [
      "Epoch 11/23:\n",
      "Training Loss: 1.9089, Training Accuracy: 0.4808, train_f1: 0.2752\n",
      "Validation Loss: 1.7171, Validation Accuracy: 0.5164, val_f1: 0.2741\n"
     ]
    },
    {
     "name": "stderr",
     "output_type": "stream",
     "text": [
      "Training procedure:  52%|█████▏    | 12/23 [09:30<08:30, 46.39s/it]"
     ]
    },
    {
     "name": "stdout",
     "output_type": "stream",
     "text": [
      "Epoch 12/23:\n",
      "Training Loss: 1.8690, Training Accuracy: 0.5003, train_f1: 0.2856\n",
      "Validation Loss: 1.6703, Validation Accuracy: 0.5293, val_f1: 0.2812\n"
     ]
    },
    {
     "name": "stderr",
     "output_type": "stream",
     "text": [
      "Training procedure:  57%|█████▋    | 13/23 [10:18<07:49, 46.99s/it]"
     ]
    },
    {
     "name": "stdout",
     "output_type": "stream",
     "text": [
      "Epoch 13/23:\n",
      "Training Loss: 1.8379, Training Accuracy: 0.5072, train_f1: 0.2842\n",
      "Validation Loss: 1.6466, Validation Accuracy: 0.5379, val_f1: 0.2855\n"
     ]
    },
    {
     "name": "stderr",
     "output_type": "stream",
     "text": [
      "Training procedure:  61%|██████    | 14/23 [11:05<07:02, 46.97s/it]"
     ]
    },
    {
     "name": "stdout",
     "output_type": "stream",
     "text": [
      "Epoch 14/23:\n",
      "Training Loss: 1.7914, Training Accuracy: 0.5190, train_f1: 0.2962\n",
      "Validation Loss: 1.6186, Validation Accuracy: 0.5440, val_f1: 0.2893\n"
     ]
    },
    {
     "name": "stderr",
     "output_type": "stream",
     "text": [
      "Training procedure:  65%|██████▌   | 15/23 [11:53<06:19, 47.43s/it]"
     ]
    },
    {
     "name": "stdout",
     "output_type": "stream",
     "text": [
      "Epoch 15/23:\n",
      "Training Loss: 1.7521, Training Accuracy: 0.5268, train_f1: 0.2977\n",
      "Validation Loss: 1.5627, Validation Accuracy: 0.5705, val_f1: 0.2962\n"
     ]
    },
    {
     "name": "stderr",
     "output_type": "stream",
     "text": [
      "Training procedure:  70%|██████▉   | 16/23 [12:42<05:33, 47.70s/it]"
     ]
    },
    {
     "name": "stdout",
     "output_type": "stream",
     "text": [
      "Epoch 16/23:\n",
      "Training Loss: 1.7155, Training Accuracy: 0.5367, train_f1: 0.3021\n",
      "Validation Loss: 1.6102, Validation Accuracy: 0.5630, val_f1: 0.2954\n"
     ]
    },
    {
     "name": "stderr",
     "output_type": "stream",
     "text": [
      "Training procedure:  74%|███████▍  | 17/23 [13:29<04:45, 47.66s/it]"
     ]
    },
    {
     "name": "stdout",
     "output_type": "stream",
     "text": [
      "Epoch 17/23:\n",
      "Training Loss: 1.7135, Training Accuracy: 0.5428, train_f1: 0.3090\n",
      "Validation Loss: 1.5680, Validation Accuracy: 0.5655, val_f1: 0.3028\n"
     ]
    },
    {
     "name": "stderr",
     "output_type": "stream",
     "text": [
      "Training procedure:  78%|███████▊  | 18/23 [14:19<04:01, 48.33s/it]"
     ]
    },
    {
     "name": "stdout",
     "output_type": "stream",
     "text": [
      "Epoch 18/23:\n",
      "Training Loss: 1.6508, Training Accuracy: 0.5487, train_f1: 0.3031\n",
      "Validation Loss: 1.5220, Validation Accuracy: 0.5764, val_f1: 0.3058\n"
     ]
    },
    {
     "name": "stderr",
     "output_type": "stream",
     "text": [
      "Training procedure:  83%|████████▎ | 19/23 [15:08<03:14, 48.54s/it]"
     ]
    },
    {
     "name": "stdout",
     "output_type": "stream",
     "text": [
      "Epoch 19/23:\n",
      "Training Loss: 1.6386, Training Accuracy: 0.5623, train_f1: 0.3225\n",
      "Validation Loss: 1.5010, Validation Accuracy: 0.5864, val_f1: 0.3093\n"
     ]
    },
    {
     "name": "stderr",
     "output_type": "stream",
     "text": [
      "Training procedure:  87%|████████▋ | 20/23 [15:57<02:25, 48.56s/it]"
     ]
    },
    {
     "name": "stdout",
     "output_type": "stream",
     "text": [
      "Epoch 20/23:\n",
      "Training Loss: 1.5911, Training Accuracy: 0.5618, train_f1: 0.3190\n",
      "Validation Loss: 1.4782, Validation Accuracy: 0.5875, val_f1: 0.3142\n"
     ]
    },
    {
     "name": "stderr",
     "output_type": "stream",
     "text": [
      "Training procedure:  91%|█████████▏| 21/23 [16:45<01:37, 48.59s/it]"
     ]
    },
    {
     "name": "stdout",
     "output_type": "stream",
     "text": [
      "Epoch 21/23:\n",
      "Training Loss: 1.5713, Training Accuracy: 0.5725, train_f1: 0.3270\n",
      "Validation Loss: 1.4652, Validation Accuracy: 0.5875, val_f1: 0.3142\n"
     ]
    },
    {
     "name": "stderr",
     "output_type": "stream",
     "text": [
      "Training procedure:  96%|█████████▌| 22/23 [17:33<00:48, 48.36s/it]"
     ]
    },
    {
     "name": "stdout",
     "output_type": "stream",
     "text": [
      "Epoch 22/23:\n",
      "Training Loss: 1.5567, Training Accuracy: 0.5794, train_f1: 0.3343\n",
      "Validation Loss: 1.4577, Validation Accuracy: 0.5934, val_f1: 0.3232\n"
     ]
    },
    {
     "name": "stderr",
     "output_type": "stream",
     "text": [
      "Training procedure: 100%|██████████| 23/23 [18:21<00:00, 47.89s/it]"
     ]
    },
    {
     "name": "stdout",
     "output_type": "stream",
     "text": [
      "Epoch 23/23:\n",
      "Training Loss: 1.5260, Training Accuracy: 0.5870, train_f1: 0.3450\n",
      "Validation Loss: 1.4763, Validation Accuracy: 0.6012, val_f1: 0.3206\n"
     ]
    },
    {
     "name": "stderr",
     "output_type": "stream",
     "text": [
      "\n"
     ]
    },
    {
     "name": "stdout",
     "output_type": "stream",
     "text": [
      "Test Accuracy: 0.6059\n",
      "Test F1: 0.3331\n",
      "Test Precision: 0.3415706889414334\n",
      "Test Recall: 0.3312463244355798\n",
      "Learning Rate: 0.0007866216981266856\n",
      "Optimizer: 1\n",
      "num_epoch: 14\n",
      "Weight Decay: 6.729728537157744e-06\n",
      "cuda:0\n"
     ]
    },
    {
     "name": "stderr",
     "output_type": "stream",
     "text": [
      "Training procedure:   7%|▋         | 1/14 [00:48<10:32, 48.62s/it]"
     ]
    },
    {
     "name": "stdout",
     "output_type": "stream",
     "text": [
      "Epoch 1/14:\n",
      "Training Loss: 2.2838, Training Accuracy: 0.4293, train_f1: 0.2530\n",
      "Validation Loss: 1.6311, Validation Accuracy: 0.5538, val_f1: 0.2967\n"
     ]
    },
    {
     "name": "stderr",
     "output_type": "stream",
     "text": [
      "Training procedure:  14%|█▍        | 2/14 [01:34<09:20, 46.73s/it]"
     ]
    },
    {
     "name": "stdout",
     "output_type": "stream",
     "text": [
      "Epoch 2/14:\n",
      "Training Loss: 1.5480, Training Accuracy: 0.5851, train_f1: 0.3416\n",
      "Validation Loss: 1.3739, Validation Accuracy: 0.6154, val_f1: 0.3459\n"
     ]
    },
    {
     "name": "stderr",
     "output_type": "stream",
     "text": [
      "Training procedure:  21%|██▏       | 3/14 [02:21<08:38, 47.18s/it]"
     ]
    },
    {
     "name": "stdout",
     "output_type": "stream",
     "text": [
      "Epoch 3/14:\n",
      "Training Loss: 1.3265, Training Accuracy: 0.6232, train_f1: 0.3821\n",
      "Validation Loss: 1.2434, Validation Accuracy: 0.6366, val_f1: 0.3808\n"
     ]
    },
    {
     "name": "stderr",
     "output_type": "stream",
     "text": [
      "Training procedure:  29%|██▊       | 4/14 [03:07<07:47, 46.70s/it]"
     ]
    },
    {
     "name": "stdout",
     "output_type": "stream",
     "text": [
      "Epoch 4/14:\n",
      "Training Loss: 1.1397, Training Accuracy: 0.6582, train_f1: 0.4258\n",
      "Validation Loss: 1.1540, Validation Accuracy: 0.6472, val_f1: 0.3937\n"
     ]
    },
    {
     "name": "stderr",
     "output_type": "stream",
     "text": [
      "Training procedure:  36%|███▌      | 5/14 [03:57<07:09, 47.73s/it]"
     ]
    },
    {
     "name": "stdout",
     "output_type": "stream",
     "text": [
      "Epoch 5/14:\n",
      "Training Loss: 1.0083, Training Accuracy: 0.6799, train_f1: 0.4634\n",
      "Validation Loss: 1.1139, Validation Accuracy: 0.6619, val_f1: 0.4281\n"
     ]
    },
    {
     "name": "stderr",
     "output_type": "stream",
     "text": [
      "Training procedure:  43%|████▎     | 6/14 [04:43<06:16, 47.09s/it]"
     ]
    },
    {
     "name": "stdout",
     "output_type": "stream",
     "text": [
      "Epoch 6/14:\n",
      "Training Loss: 0.9122, Training Accuracy: 0.7047, train_f1: 0.5018\n",
      "Validation Loss: 1.0601, Validation Accuracy: 0.6781, val_f1: 0.4397\n"
     ]
    },
    {
     "name": "stderr",
     "output_type": "stream",
     "text": [
      "Training procedure:  50%|█████     | 7/14 [05:31<05:32, 47.56s/it]"
     ]
    },
    {
     "name": "stdout",
     "output_type": "stream",
     "text": [
      "Epoch 7/14:\n",
      "Training Loss: 0.8371, Training Accuracy: 0.7257, train_f1: 0.5342\n",
      "Validation Loss: 1.0228, Validation Accuracy: 0.6954, val_f1: 0.4658\n"
     ]
    },
    {
     "name": "stderr",
     "output_type": "stream",
     "text": [
      "Training procedure:  57%|█████▋    | 8/14 [06:19<04:46, 47.70s/it]"
     ]
    },
    {
     "name": "stdout",
     "output_type": "stream",
     "text": [
      "Epoch 8/14:\n",
      "Training Loss: 0.7677, Training Accuracy: 0.7408, train_f1: 0.5578\n",
      "Validation Loss: 0.9778, Validation Accuracy: 0.7015, val_f1: 0.4793\n"
     ]
    },
    {
     "name": "stderr",
     "output_type": "stream",
     "text": [
      "Training procedure:  64%|██████▍   | 9/14 [07:06<03:56, 47.39s/it]"
     ]
    },
    {
     "name": "stdout",
     "output_type": "stream",
     "text": [
      "Epoch 9/14:\n",
      "Training Loss: 0.7070, Training Accuracy: 0.7579, train_f1: 0.5931\n",
      "Validation Loss: 0.9711, Validation Accuracy: 0.7029, val_f1: 0.4768\n"
     ]
    },
    {
     "name": "stderr",
     "output_type": "stream",
     "text": [
      "Training procedure:  71%|███████▏  | 10/14 [07:54<03:11, 47.76s/it]"
     ]
    },
    {
     "name": "stdout",
     "output_type": "stream",
     "text": [
      "Epoch 10/14:\n",
      "Training Loss: 0.6457, Training Accuracy: 0.7684, train_f1: 0.6016\n",
      "Validation Loss: 0.9267, Validation Accuracy: 0.7068, val_f1: 0.4964\n"
     ]
    },
    {
     "name": "stderr",
     "output_type": "stream",
     "text": [
      "Training procedure:  79%|███████▊  | 11/14 [08:44<02:25, 48.39s/it]"
     ]
    },
    {
     "name": "stdout",
     "output_type": "stream",
     "text": [
      "Epoch 11/14:\n",
      "Training Loss: 0.6166, Training Accuracy: 0.7818, train_f1: 0.6241\n",
      "Validation Loss: 0.9177, Validation Accuracy: 0.7149, val_f1: 0.5024\n"
     ]
    },
    {
     "name": "stderr",
     "output_type": "stream",
     "text": [
      "Training procedure:  86%|████████▌ | 12/14 [09:34<01:37, 48.66s/it]"
     ]
    },
    {
     "name": "stdout",
     "output_type": "stream",
     "text": [
      "Epoch 12/14:\n",
      "Training Loss: 0.5719, Training Accuracy: 0.7933, train_f1: 0.6471\n",
      "Validation Loss: 0.9071, Validation Accuracy: 0.7163, val_f1: 0.5099\n"
     ]
    },
    {
     "name": "stderr",
     "output_type": "stream",
     "text": [
      "Training procedure:  93%|█████████▎| 13/14 [10:20<00:48, 48.13s/it]"
     ]
    },
    {
     "name": "stdout",
     "output_type": "stream",
     "text": [
      "Epoch 13/14:\n",
      "Training Loss: 0.5412, Training Accuracy: 0.8067, train_f1: 0.6651\n",
      "Validation Loss: 0.8929, Validation Accuracy: 0.7210, val_f1: 0.5184\n"
     ]
    },
    {
     "name": "stderr",
     "output_type": "stream",
     "text": [
      "Training procedure: 100%|██████████| 14/14 [11:09<00:00, 47.82s/it]"
     ]
    },
    {
     "name": "stdout",
     "output_type": "stream",
     "text": [
      "Epoch 14/14:\n",
      "Training Loss: 0.5129, Training Accuracy: 0.8165, train_f1: 0.6826\n",
      "Validation Loss: 0.9527, Validation Accuracy: 0.7246, val_f1: 0.5120\n"
     ]
    },
    {
     "name": "stderr",
     "output_type": "stream",
     "text": [
      "\n"
     ]
    },
    {
     "name": "stdout",
     "output_type": "stream",
     "text": [
      "Test Accuracy: 0.7188\n",
      "Test F1: 0.5053\n",
      "Test Precision: 0.5383198145663085\n",
      "Test Recall: 0.4848157448810266\n"
     ]
    }
   ],
   "source": [
    "@use_named_args(search_space)\n",
    "def opt_fn(learning_rate, optimize, wd, num_epoch, train_dataloader, val_dataloader, test_dataloader):\n",
    "    print(f\"Learning Rate: {learning_rate}\")\n",
    "    print(f\"Optimizer: {optimize}\")\n",
    "    print(f\"num_epoch: {num_epoch}\")\n",
    "    print(f\"Weight Decay: {wd}\")\n",
    "\n",
    "    device = torch.device(\"cuda:0\" if torch.cuda.is_available() else \"cpu\")\n",
    "    print(device)\n",
    "    #if lw != None:\n",
    "        #print(lw)\n",
    "        #lw.cpu()\n",
    "    model = timm.create_model('rexnet_150', num_classes = 5, pretrained=True)\n",
    "    training(lr=learning_rate, model = model, train_dataloader= train_dataloader, val_dataloader=val_dataloader, num_epochs=num_epoch, model_name=f'rexnet_150_src', wd = wd, optimize=optimize)\n",
    "    f1_score = test(model, test_dataloader, model_name=f'rexnet_150_src')\n",
    "    torch.cuda.empty_cache()  # PyTorch\n",
    "    \n",
    "    \n",
    "    return (1-f1_score)\n",
    "\n",
    "\n",
    "result = gp_minimize(opt_fn,   \n",
    "                     search_space,         \n",
    "                     n_calls=10,           \n",
    "                     random_state=42)      \n"
   ]
  },
  {
   "cell_type": "code",
   "execution_count": 11,
   "id": "00d34054-ed65-4db1-8423-30b1151d9e74",
   "metadata": {},
   "outputs": [
    {
     "name": "stdout",
     "output_type": "stream",
     "text": [
      "Optimal hyperparameters:\n",
      "Learning Rate: 0.00024526126311336793\n",
      "Optimizer: 0\n",
      "num_epoch: 19\n",
      "Weight Decay: 0.00021830968390524624\n",
      "Optimal F1 Score: 0.6623861743301297\n"
     ]
    }
   ],
   "source": [
    "print(\"Optimal hyperparameters:\")\n",
    "\n",
    "\n",
    "print(f\"Learning Rate: {result.x[0]}\")\n",
    "print(f\"Optimizer: {result.x[1]}\")\n",
    "print(f\"num_epoch: {result.x[3]}\")\n",
    "print(f\"Weight Decay: {result.x[2]}\")\n",
    "\n",
    "\n",
    "print(\"Optimal F1 Score:\", (1-result.fun))"
   ]
  },
  {
   "cell_type": "code",
   "execution_count": 12,
   "id": "17a1a9f5-6c19-4d22-8990-9b460d28821e",
   "metadata": {},
   "outputs": [],
   "source": [
    "torch.cuda.empty_cache()  # PyTorch\n"
   ]
  },
  {
   "cell_type": "code",
   "execution_count": 14,
   "id": "21f7b793-6348-4393-af00-2e8039cf906e",
   "metadata": {},
   "outputs": [],
   "source": [
    "import pickle\n",
    "\n",
    "# Assuming 'result' contains the output of Bayesian Optimization\n",
    "with open('bayesian_optimization_result.pkl', 'wb') as f:\n",
    "    pickle.dump(result, f)\n"
   ]
  },
  {
   "cell_type": "code",
   "execution_count": 16,
   "id": "15df2f8e-4083-4c95-b17d-8e3ee0301d3a",
   "metadata": {},
   "outputs": [
    {
     "name": "stderr",
     "output_type": "stream",
     "text": [
      "Training procedure:   5%|▌         | 1/19 [00:48<14:31, 48.42s/it]"
     ]
    },
    {
     "name": "stdout",
     "output_type": "stream",
     "text": [
      "Epoch 1/19:\n",
      "Training Loss: 0.9879, Training Accuracy: 0.7035, train_f1: 0.5100\n",
      "Validation Loss: 0.5884, Validation Accuracy: 0.7938, val_f1: 0.6280\n"
     ]
    },
    {
     "name": "stderr",
     "output_type": "stream",
     "text": [
      "Training procedure:  11%|█         | 2/19 [01:36<13:36, 48.01s/it]"
     ]
    },
    {
     "name": "stdout",
     "output_type": "stream",
     "text": [
      "Epoch 2/19:\n",
      "Training Loss: 0.2664, Training Accuracy: 0.9067, train_f1: 0.8364\n",
      "Validation Loss: 0.7085, Validation Accuracy: 0.7865, val_f1: 0.6054\n"
     ]
    },
    {
     "name": "stderr",
     "output_type": "stream",
     "text": [
      "Training procedure:  16%|█▌        | 3/19 [02:24<12:49, 48.10s/it]"
     ]
    },
    {
     "name": "stdout",
     "output_type": "stream",
     "text": [
      "Epoch 3/19:\n",
      "Training Loss: 0.0821, Training Accuracy: 0.9759, train_f1: 0.9593\n",
      "Validation Loss: 0.8404, Validation Accuracy: 0.7873, val_f1: 0.6135\n"
     ]
    },
    {
     "name": "stderr",
     "output_type": "stream",
     "text": [
      "Training procedure:  21%|██        | 4/19 [03:13<12:05, 48.38s/it]"
     ]
    },
    {
     "name": "stdout",
     "output_type": "stream",
     "text": [
      "Epoch 4/19:\n",
      "Training Loss: 0.0415, Training Accuracy: 0.9875, train_f1: 0.9794\n",
      "Validation Loss: 0.8267, Validation Accuracy: 0.7982, val_f1: 0.6415\n"
     ]
    },
    {
     "name": "stderr",
     "output_type": "stream",
     "text": [
      "Training procedure:  26%|██▋       | 5/19 [04:01<11:15, 48.27s/it]"
     ]
    },
    {
     "name": "stdout",
     "output_type": "stream",
     "text": [
      "Epoch 5/19:\n",
      "Training Loss: 0.0384, Training Accuracy: 0.9875, train_f1: 0.9795\n",
      "Validation Loss: 0.8761, Validation Accuracy: 0.7996, val_f1: 0.6445\n"
     ]
    },
    {
     "name": "stderr",
     "output_type": "stream",
     "text": [
      "Training procedure:  32%|███▏      | 6/19 [04:49<10:28, 48.31s/it]"
     ]
    },
    {
     "name": "stdout",
     "output_type": "stream",
     "text": [
      "Epoch 6/19:\n",
      "Training Loss: 0.0382, Training Accuracy: 0.9883, train_f1: 0.9822\n",
      "Validation Loss: 0.9478, Validation Accuracy: 0.8004, val_f1: 0.6443\n"
     ]
    },
    {
     "name": "stderr",
     "output_type": "stream",
     "text": [
      "Training procedure:  37%|███▋      | 7/19 [05:36<09:35, 47.98s/it]"
     ]
    },
    {
     "name": "stdout",
     "output_type": "stream",
     "text": [
      "Epoch 7/19:\n",
      "Training Loss: 0.0522, Training Accuracy: 0.9820, train_f1: 0.9723\n",
      "Validation Loss: 0.9529, Validation Accuracy: 0.8002, val_f1: 0.6435\n"
     ]
    },
    {
     "name": "stderr",
     "output_type": "stream",
     "text": [
      "Training procedure:  42%|████▏     | 8/19 [06:24<08:45, 47.76s/it]"
     ]
    },
    {
     "name": "stdout",
     "output_type": "stream",
     "text": [
      "Epoch 8/19:\n",
      "Training Loss: 0.0380, Training Accuracy: 0.9873, train_f1: 0.9790\n",
      "Validation Loss: 0.9426, Validation Accuracy: 0.7901, val_f1: 0.6360\n"
     ]
    },
    {
     "name": "stderr",
     "output_type": "stream",
     "text": [
      "Training procedure:  47%|████▋     | 9/19 [07:13<08:01, 48.16s/it]"
     ]
    },
    {
     "name": "stdout",
     "output_type": "stream",
     "text": [
      "Epoch 9/19:\n",
      "Training Loss: 0.0325, Training Accuracy: 0.9902, train_f1: 0.9852\n",
      "Validation Loss: 0.9935, Validation Accuracy: 0.7993, val_f1: 0.6394\n"
     ]
    },
    {
     "name": "stderr",
     "output_type": "stream",
     "text": [
      "Training procedure:  53%|█████▎    | 10/19 [08:02<07:17, 48.63s/it]"
     ]
    },
    {
     "name": "stdout",
     "output_type": "stream",
     "text": [
      "Epoch 10/19:\n",
      "Training Loss: 0.0316, Training Accuracy: 0.9913, train_f1: 0.9850\n",
      "Validation Loss: 1.0630, Validation Accuracy: 0.8060, val_f1: 0.6457\n"
     ]
    },
    {
     "name": "stderr",
     "output_type": "stream",
     "text": [
      "Training procedure:  58%|█████▊    | 11/19 [08:52<06:30, 48.80s/it]"
     ]
    },
    {
     "name": "stdout",
     "output_type": "stream",
     "text": [
      "Epoch 11/19:\n",
      "Training Loss: 0.0855, Training Accuracy: 0.9711, train_f1: 0.9550\n",
      "Validation Loss: 0.9514, Validation Accuracy: 0.7960, val_f1: 0.6456\n"
     ]
    },
    {
     "name": "stderr",
     "output_type": "stream",
     "text": [
      "Training procedure:  63%|██████▎   | 12/19 [09:41<05:43, 49.10s/it]"
     ]
    },
    {
     "name": "stdout",
     "output_type": "stream",
     "text": [
      "Epoch 12/19:\n",
      "Training Loss: 0.0419, Training Accuracy: 0.9845, train_f1: 0.9756\n",
      "Validation Loss: 1.0166, Validation Accuracy: 0.7999, val_f1: 0.6366\n"
     ]
    },
    {
     "name": "stderr",
     "output_type": "stream",
     "text": [
      "Training procedure:  68%|██████▊   | 13/19 [10:30<04:54, 49.01s/it]"
     ]
    },
    {
     "name": "stdout",
     "output_type": "stream",
     "text": [
      "Epoch 13/19:\n",
      "Training Loss: 0.0325, Training Accuracy: 0.9894, train_f1: 0.9854\n",
      "Validation Loss: 1.0009, Validation Accuracy: 0.8099, val_f1: 0.6567\n"
     ]
    },
    {
     "name": "stderr",
     "output_type": "stream",
     "text": [
      "Training procedure:  74%|███████▎  | 14/19 [11:17<04:01, 48.29s/it]"
     ]
    },
    {
     "name": "stdout",
     "output_type": "stream",
     "text": [
      "Epoch 14/19:\n",
      "Training Loss: 0.0203, Training Accuracy: 0.9928, train_f1: 0.9896\n",
      "Validation Loss: 0.9840, Validation Accuracy: 0.8155, val_f1: 0.6750\n"
     ]
    },
    {
     "name": "stderr",
     "output_type": "stream",
     "text": [
      "Training procedure:  79%|███████▉  | 15/19 [12:05<03:12, 48.19s/it]"
     ]
    },
    {
     "name": "stdout",
     "output_type": "stream",
     "text": [
      "Epoch 15/19:\n",
      "Training Loss: 0.0118, Training Accuracy: 0.9957, train_f1: 0.9946\n",
      "Validation Loss: 1.0620, Validation Accuracy: 0.8169, val_f1: 0.6712\n"
     ]
    },
    {
     "name": "stderr",
     "output_type": "stream",
     "text": [
      "Training procedure:  84%|████████▍ | 16/19 [12:52<02:23, 47.81s/it]"
     ]
    },
    {
     "name": "stdout",
     "output_type": "stream",
     "text": [
      "Epoch 16/19:\n",
      "Training Loss: 0.0093, Training Accuracy: 0.9974, train_f1: 0.9966\n",
      "Validation Loss: 1.0804, Validation Accuracy: 0.8172, val_f1: 0.6665\n"
     ]
    },
    {
     "name": "stderr",
     "output_type": "stream",
     "text": [
      "Training procedure:  89%|████████▉ | 17/19 [13:39<01:35, 47.68s/it]"
     ]
    },
    {
     "name": "stdout",
     "output_type": "stream",
     "text": [
      "Epoch 17/19:\n",
      "Training Loss: 0.0119, Training Accuracy: 0.9955, train_f1: 0.9940\n",
      "Validation Loss: 1.0927, Validation Accuracy: 0.8188, val_f1: 0.6709\n"
     ]
    },
    {
     "name": "stderr",
     "output_type": "stream",
     "text": [
      "Training procedure:  95%|█████████▍| 18/19 [14:25<00:47, 47.21s/it]"
     ]
    },
    {
     "name": "stdout",
     "output_type": "stream",
     "text": [
      "Epoch 18/19:\n",
      "Training Loss: 0.0256, Training Accuracy: 0.9915, train_f1: 0.9861\n",
      "Validation Loss: 1.0674, Validation Accuracy: 0.8049, val_f1: 0.6521\n"
     ]
    },
    {
     "name": "stderr",
     "output_type": "stream",
     "text": [
      "Training procedure: 100%|██████████| 19/19 [15:14<00:00, 48.14s/it]"
     ]
    },
    {
     "name": "stdout",
     "output_type": "stream",
     "text": [
      "Epoch 19/19:\n",
      "Training Loss: 0.0540, Training Accuracy: 0.9827, train_f1: 0.9689\n",
      "Validation Loss: 1.0165, Validation Accuracy: 0.8055, val_f1: 0.6564\n"
     ]
    },
    {
     "name": "stderr",
     "output_type": "stream",
     "text": [
      "\n"
     ]
    },
    {
     "name": "stdout",
     "output_type": "stream",
     "text": [
      "Test Accuracy: 0.8188\n",
      "Test F1: 0.6813\n",
      "Test Precision: 0.7009341205664337\n",
      "Test Recall: 0.6674121098185222\n"
     ]
    }
   ],
   "source": [
    "model = timm.create_model('rexnet_150', num_classes = 5, pretrained=True)\n",
    "training(lr=0.00024526126311336793, model = model, train_dataloader= train_dataloader, val_dataloader=val_dataloader, num_epochs=19, model_name=f'rexnet_150_optimal', wd = 0.00021830968390524624, optimize=0)\n",
    "f1_score = test(model, test_dataloader, model_name=f'rexnet_150_optimal')\n"
   ]
  },
  {
   "cell_type": "markdown",
   "id": "c5027014-3ae4-4d52-8f0e-0c4fcb0f7f9a",
   "metadata": {},
   "source": [
    "# Model performance visualization"
   ]
  },
  {
   "cell_type": "code",
   "execution_count": 44,
   "id": "d97a2f78-a366-4427-b2f2-9bfcea468055",
   "metadata": {},
   "outputs": [],
   "source": [
    "import matplotlib.pyplot as plt\n",
    "model_list = ['BasicCNN', 'StackedCNN2', 'resnet50_np', 'rexnet_150_np', 'resnet50_pt', 'rexnet_150_pt', 'rexnet_150_optimal']"
   ]
  },
  {
   "cell_type": "code",
   "execution_count": 87,
   "id": "435a9cdc-e49a-4ab9-a21e-4fe974300156",
   "metadata": {},
   "outputs": [
    {
     "name": "stdout",
     "output_type": "stream",
     "text": [
      "[[0.42725752508361203, 0.3384481773996642, 0.35824849223998484, 0.37256228283014037], [0.637402452619844, 0.37283375414967407, 0.4165716929198792, 0.37477920911049656], [0.5186733556298774, 0.41091633734708644, 0.41943492486735956, 0.4439987698045976], [0.4358974358974359, 0.28629911571001665, 0.28556328489290217, 0.30489515643897347], [0.6847826086956522, 0.5376919626063078, 0.5191178608126455, 0.5689174880266705], [0.7009476031215162, 0.5470669359428062, 0.5305247827510802, 0.5707473198126448], [0.8188405797101449, 0.6812827107628363, 0.7009341205664337, 0.6674121098185222]]\n"
     ]
    }
   ],
   "source": [
    "train_losses = []\n",
    "val_losses = []\n",
    "test_metrics = []\n",
    "for i in range(len(model_list)):\n",
    "    with open(f'data/new_metrics/{model_list[i]}_train.json', 'r') as f:\n",
    "        file = json.load(f)\n",
    "        train_loss_= file['train_epoch_loss']\n",
    "        val_loss_ = file['val_epoch_loss']\n",
    "        l_list_t = []\n",
    "        l_list_val = []\n",
    "        for key in train_loss_.keys():\n",
    "            l_list_t.append(train_loss_[key])\n",
    "            l_list_val.append(val_loss_[key])\n",
    "    \n",
    "        train_losses.append(l_list_t)\n",
    "        val_losses.append(l_list_val)\n",
    "\n",
    "    with open(f'data/new_metrics/{model_list[i]}_test.json', 'r') as f:\n",
    "        file=json.load(f)\n",
    "        acc = file['test_accuracy']\n",
    "        f1 = file['test_f1']\n",
    "        precision = file['test_precision']\n",
    "        recall = file['test_recall']\n",
    "        test_metrics.append([acc,f1,precision,recall])\n",
    "print(test_metrics)"
   ]
  },
  {
   "cell_type": "code",
   "execution_count": 61,
   "id": "65ece913-0abf-4d35-8108-f799b39b45bc",
   "metadata": {},
   "outputs": [
    {
     "ename": "IndexError",
     "evalue": "index 3 is out of bounds for axis 1 with size 3",
     "output_type": "error",
     "traceback": [
      "\u001b[0;31m---------------------------------------------------------------------------\u001b[0m",
      "\u001b[0;31mIndexError\u001b[0m                                Traceback (most recent call last)",
      "Cell \u001b[0;32mIn[61], line 7\u001b[0m\n\u001b[1;32m      5\u001b[0m \u001b[38;5;66;03m# Plot training and validation loss curves\u001b[39;00m\n\u001b[1;32m      6\u001b[0m \u001b[38;5;28;01mfor\u001b[39;00m i, (train_loss, val_loss) \u001b[38;5;129;01min\u001b[39;00m \u001b[38;5;28menumerate\u001b[39m(\u001b[38;5;28mzip\u001b[39m(train_losses, val_losses)):\n\u001b[0;32m----> 7\u001b[0m     ax \u001b[38;5;241m=\u001b[39m \u001b[43maxes\u001b[49m\u001b[43m[\u001b[49m\u001b[43mi\u001b[49m\u001b[43m \u001b[49m\u001b[38;5;241;43m%\u001b[39;49m\u001b[43m \u001b[49m\u001b[38;5;241;43m2\u001b[39;49m\u001b[43m,\u001b[49m\u001b[43m \u001b[49m\u001b[43mi\u001b[49m\u001b[43m \u001b[49m\u001b[38;5;241;43m/\u001b[39;49m\u001b[38;5;241;43m/\u001b[39;49m\u001b[43m \u001b[49m\u001b[38;5;241;43m2\u001b[39;49m\u001b[43m]\u001b[49m  \u001b[38;5;66;03m# Corrected subplot index calculation\u001b[39;00m\n\u001b[1;32m      8\u001b[0m     ax\u001b[38;5;241m.\u001b[39mplot(train_loss, label\u001b[38;5;241m=\u001b[39m\u001b[38;5;124m'\u001b[39m\u001b[38;5;124mTrain Loss\u001b[39m\u001b[38;5;124m'\u001b[39m)\n\u001b[1;32m      9\u001b[0m     ax\u001b[38;5;241m.\u001b[39mplot(val_loss, label\u001b[38;5;241m=\u001b[39m\u001b[38;5;124m'\u001b[39m\u001b[38;5;124mValidation Loss\u001b[39m\u001b[38;5;124m'\u001b[39m)\n",
      "\u001b[0;31mIndexError\u001b[0m: index 3 is out of bounds for axis 1 with size 3"
     ]
    },
    {
     "data": {
      "image/png": "[encoded data removed]",
      "text/plain": [
       "<Figure size 1800x1000 with 6 Axes>"
      ]
     },
     "metadata": {},
     "output_type": "display_data"
    }
   ],
   "source": [
    "\n",
    "# Create a 2x3 grid of subplots\n",
    "fig, axes = plt.subplots(2, 3, figsize=(18, 10))\n",
    "fig.suptitle('Performance of Models', fontsize=16)\n",
    "\n",
    "# Plot training and validation loss curves\n",
    "for i, (train_loss, val_loss) in enumerate(zip(train_losses, val_losses)):\n",
    "    ax = axes[i % 2, i // 2]  # Corrected subplot index calculation\n",
    "    ax.plot(train_loss, label='Train Loss')\n",
    "    ax.plot(val_loss, label='Validation Loss')\n",
    "    ax.set_title(f'{model_list[i]} Training and Validation Loss')\n",
    "    ax.set_xlabel('Epoch')\n",
    "    ax.set_ylabel('Loss')\n",
    "    ax.legend()\n",
    "\n",
    "\n",
    "# Adjust layout\n",
    "plt.tight_layout()\n",
    "plt.subplots_adjust(top=0.9)\n",
    "\n",
    "# Show or save the visualization\n",
    "plt.show()  # To display the plot"
   ]
  },
  {
   "cell_type": "code",
   "execution_count": 57,
   "id": "ed32fecf-5ceb-4d7f-b4cd-8738b25ae86b",
   "metadata": {},
   "outputs": [
    {
     "data": {
      "text/plain": [
       "True"
      ]
     },
     "execution_count": 57,
     "metadata": {},
     "output_type": "execute_result"
    }
   ],
   "source": [
    "train_losses[0]==train_losses[2]"
   ]
  },
  {
   "cell_type": "code",
   "execution_count": 93,
   "id": "7400c60e-4ada-4f01-9b87-af00709d966b",
   "metadata": {
    "scrolled": true
   },
   "outputs": [
    {
     "name": "stderr",
     "output_type": "stream",
     "text": [
      "/tmp/ipykernel_135838/3740502874.py:21: UserWarning: set_ticklabels() should only be used with a fixed number of ticks, i.e. after set_ticks() or using a FixedLocator.\n",
      "  ax.set_xticklabels(model_list, rotation=45, ha='right')\n",
      "/tmp/ipykernel_135838/3740502874.py:21: UserWarning: set_ticklabels() should only be used with a fixed number of ticks, i.e. after set_ticks() or using a FixedLocator.\n",
      "  ax.set_xticklabels(model_list, rotation=45, ha='right')\n",
      "/tmp/ipykernel_135838/3740502874.py:21: UserWarning: set_ticklabels() should only be used with a fixed number of ticks, i.e. after set_ticks() or using a FixedLocator.\n",
      "  ax.set_xticklabels(model_list, rotation=45, ha='right')\n",
      "/tmp/ipykernel_135838/3740502874.py:21: UserWarning: set_ticklabels() should only be used with a fixed number of ticks, i.e. after set_ticks() or using a FixedLocator.\n",
      "  ax.set_xticklabels(model_list, rotation=45, ha='right')\n"
     ]
    },
    {
     "data": {
      "image/png": "[encoded data removed]",
      "text/plain": [
       "<Figure size 1200x800 with 4 Axes>"
      ]
     },
     "metadata": {},
     "output_type": "display_data"
    }
   ],
   "source": [
    "metrics_names = ['Accuracy', 'F1 Score', 'Precision', 'Recall']\n",
    "fig, axes = plt.subplots(2, 2, figsize=(12, 8))\n",
    "fig.suptitle('Test Metrics Across Models', fontsize=16)\n",
    "\n",
    "# Define colors for bars\n",
    "num_models = len(model_list)\n",
    "colors = ['b'] * (num_models - 1) + ['r']  # Blue for all models except the final one, which is red\n",
    "\n",
    "# Plot test metrics for each metric\n",
    "for i, metric_name in enumerate(metrics_names):\n",
    "    ax = axes[i // 2, i % 2]  # Subplot index calculation\n",
    "    ax.set_title(metric_name)\n",
    "\n",
    "    metric_values = [model[i] for model in test_metrics]\n",
    "    bars = ax.bar(model_list, metric_values, color=colors)\n",
    "\n",
    "    ax.set_xlabel('Models')\n",
    "    ax.set_ylabel(metric_name)\n",
    "\n",
    "    # Rotate x-axis labels\n",
    "    ax.set_xticklabels(model_list, rotation=45, ha='right')\n",
    "\n",
    "# Adjust layout\n",
    "plt.tight_layout()\n",
    "plt.subplots_adjust(top=0.9)\n",
    "\n",
    "# Show the visualization\n",
    "plt.show()\n"
   ]
  },
  {
   "cell_type": "code",
   "execution_count": 94,
   "id": "8cbb39e3-2d7f-4824-a6c2-8f264b87a439",
   "metadata": {
    "scrolled": true
   },
   "outputs": [
    {
     "data": {
      "image/png": "[encoded data removed]",
      "text/plain": [
       "<Figure size 1000x600 with 1 Axes>"
      ]
     },
     "metadata": {},
     "output_type": "display_data"
    }
   ],
   "source": [
    "plt.figure(figsize=(10, 6))\n",
    "plt.plot(train_losses[-1], label='Train Loss', color='blue')\n",
    "plt.plot(val_losses[-1], label='Validation Loss', color='red')\n",
    "plt.title(f'Train and Validation Loss for Model: Optimal Model')\n",
    "plt.xlabel('Epoch')\n",
    "plt.ylabel('Loss')\n",
    "plt.legend()\n",
    "plt.grid(True)\n",
    "plt.show()\n"
   ]
  },
  {
   "cell_type": "code",
   "execution_count": 97,
   "id": "1a2e1a17-2bf7-48c3-813d-b89ddc59a466",
   "metadata": {},
   "outputs": [
    {
     "name": "stdout",
     "output_type": "stream",
     "text": [
      "Train class 0 count: 553\n",
      "Val class 0 count: 184\n",
      "Test class 0 count: 184\n",
      "---\n",
      "Train class 1 count: 1099\n",
      "Val class 1 count: 366\n",
      "Test class 1 count: 366\n",
      "---\n",
      "Train class 2 count: 1195\n",
      "Val class 2 count: 399\n",
      "Test class 2 count: 399\n",
      "---\n",
      "Train class 3 count: 6615\n",
      "Val class 3 count: 2206\n",
      "Test class 3 count: 2206\n",
      "---\n",
      "Train class 4 count: 1300\n",
      "Val class 4 count: 433\n",
      "Test class 4 count: 433\n",
      "---\n",
      "Train class 0 percentage: 5.138450102211485\n",
      "Val class 0 percentage: 5.128205128205128\n",
      "Test class 0 percentage: 5.128205128205128\n",
      "Train class 1 percentage: 10.211856532243077\n",
      "Val class 1 percentage: 10.200668896321071\n",
      "Test class 1 percentage: 10.200668896321071\n",
      "Train class 2 percentage: 11.103884036424457\n",
      "Val class 2 percentage: 11.120401337792641\n",
      "Test class 2 percentage: 11.120401337792641\n",
      "Train class 3 percentage: 61.46627020999814\n",
      "Val class 3 percentage: 61.482720178372354\n",
      "Test class 3 percentage: 61.482720178372354\n",
      "Train class 4 percentage: 12.07953911912284\n",
      "Val class 4 percentage: 12.068004459308806\n",
      "Test class 4 percentage: 12.068004459308806\n"
     ]
    }
   ],
   "source": [
    "from collections import defaultdict\n",
    "class_counts_train = defaultdict(int)\n",
    "for batch in train_dataloader:\n",
    "    for label in batch[1]:\n",
    "        class_counts_train[label.item()] += 1\n",
    "        \n",
    "class_counts_val = defaultdict(int)\n",
    "for batch in val_dataloader:\n",
    "    for label in batch[1]:\n",
    "        class_counts_val[label.item()] += 1\n",
    "        \n",
    "class_counts_test = defaultdict(int)\n",
    "for batch in test_dataloader:\n",
    "    for label in batch[1]:\n",
    "        class_counts_test[label.item()] += 1\n",
    "        \n",
    "for i in range(5):\n",
    "    print(f'Train class {i} count: {class_counts_train[i]}')\n",
    "    print(f'Val class {i} count: {class_counts_val[i]}')\n",
    "    print(f'Test class {i} count: {class_counts_test[i]}')\n",
    "    print('---')\n",
    "\n",
    "item_totals_train = 0\n",
    "item_totals_test = 0\n",
    "item_totals_val = 0\n",
    "\n",
    "for i in range(5):\n",
    "    item_totals_train += class_counts_train[i]\n",
    "    item_totals_test += class_counts_test[i]\n",
    "    item_totals_val += class_counts_val[i]\n",
    "\n",
    "for i in range(5):\n",
    "    print(f'Train class {i} percentage: {(class_counts_train[i] / item_totals_train) * 100}')\n",
    "    print(f'Val class {i} percentage: {(class_counts_val[i] / item_totals_val) * 100}')\n",
    "    print(f'Test class {i} percentage: {(class_counts_test[i] / item_totals_test) * 100}')\n",
    "    "
   ]
  },
  {
   "cell_type": "code",
   "execution_count": null,
   "id": "afa4dd8b-76f9-4b77-b673-f06dd55189a7",
   "metadata": {},
   "outputs": [],
   "source": []
  },
  {
   "cell_type": "code",
   "execution_count": null,
   "id": "dc411d2c-1800-41e8-a955-c72724ea0fc7",
   "metadata": {},
   "outputs": [],
   "source": []
  },
  {
   "cell_type": "code",
   "execution_count": null,
   "id": "628d5e30-0fbb-4e02-8cb3-90137531a1b8",
   "metadata": {},
   "outputs": [],
   "source": []
  }
 ],
 "metadata": {
  "kernelspec": {
   "display_name": "Python 3 (ipykernel)",
   "language": "python",
   "name": "python3"
  },
  "language_info": {
   "codemirror_mode": {
    "name": "ipython",
    "version": 3
   },
   "file_extension": ".py",
   "mimetype": "text/x-python",
   "name": "python",
   "nbconvert_exporter": "python",
   "pygments_lexer": "ipython3",
   "version": "3.10.13"
  }
 },
 "nbformat": 4,
 "nbformat_minor": 5
}
